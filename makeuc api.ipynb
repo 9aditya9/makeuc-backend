{
  "nbformat": 4,
  "nbformat_minor": 0,
  "metadata": {
    "colab": {
      "name": "Untitled5.ipynb",
      "provenance": [],
      "authorship_tag": "ABX9TyO8JhcbMoQ7USxNGEXxkxQ5",
      "include_colab_link": true
    },
    "kernelspec": {
      "name": "python3",
      "display_name": "Python 3"
    },
    "language_info": {
      "name": "python"
    },
    "accelerator": "TPU"
  },
  "cells": [
    {
      "cell_type": "markdown",
      "metadata": {
        "id": "view-in-github",
        "colab_type": "text"
      },
      "source": [
        "<a href=\"https://colab.research.google.com/github/9aditya9/makeuc-backend/blob/master/makeuc%20api.ipynb\" target=\"_parent\"><img src=\"https://colab.research.google.com/assets/colab-badge.svg\" alt=\"Open In Colab\"/></a>"
      ]
    },
    {
      "cell_type": "code",
      "metadata": {
        "colab": {
          "base_uri": "https://localhost:8080/"
        },
        "id": "KJaQODXG47Zi",
        "outputId": "cbde34f2-2336-4b39-b894-94a92a20bfa3"
      },
      "source": [
        "!pip install sentencepiece"
      ],
      "execution_count": null,
      "outputs": [
        {
          "output_type": "stream",
          "name": "stdout",
          "text": [
            "Collecting sentencepiece\n",
            "  Downloading sentencepiece-0.1.96-cp37-cp37m-manylinux_2_17_x86_64.manylinux2014_x86_64.whl (1.2 MB)\n",
            "\u001b[K     |████████████████████████████████| 1.2 MB 5.2 MB/s \n",
            "\u001b[?25hInstalling collected packages: sentencepiece\n",
            "Successfully installed sentencepiece-0.1.96\n"
          ]
        }
      ]
    },
    {
      "cell_type": "code",
      "metadata": {
        "colab": {
          "base_uri": "https://localhost:8080/"
        },
        "id": "W2XWK0UbMmYi",
        "outputId": "a1ba9bc8-ac8b-4ff7-b71a-51bcd1f4bd4f"
      },
      "source": [
        "!pip install transformers"
      ],
      "execution_count": null,
      "outputs": [
        {
          "output_type": "stream",
          "name": "stdout",
          "text": [
            "Collecting transformers\n",
            "  Downloading transformers-4.11.3-py3-none-any.whl (2.9 MB)\n",
            "\u001b[K     |████████████████████████████████| 2.9 MB 5.3 MB/s \n",
            "\u001b[?25hRequirement already satisfied: importlib-metadata in /usr/local/lib/python3.7/dist-packages (from transformers) (4.8.1)\n",
            "Requirement already satisfied: regex!=2019.12.17 in /usr/local/lib/python3.7/dist-packages (from transformers) (2019.12.20)\n",
            "Requirement already satisfied: requests in /usr/local/lib/python3.7/dist-packages (from transformers) (2.23.0)\n",
            "Collecting sacremoses\n",
            "  Downloading sacremoses-0.0.46-py3-none-any.whl (895 kB)\n",
            "\u001b[K     |████████████████████████████████| 895 kB 42.0 MB/s \n",
            "\u001b[?25hCollecting tokenizers<0.11,>=0.10.1\n",
            "  Downloading tokenizers-0.10.3-cp37-cp37m-manylinux_2_5_x86_64.manylinux1_x86_64.manylinux_2_12_x86_64.manylinux2010_x86_64.whl (3.3 MB)\n",
            "\u001b[K     |████████████████████████████████| 3.3 MB 46.1 MB/s \n",
            "\u001b[?25hRequirement already satisfied: numpy>=1.17 in /usr/local/lib/python3.7/dist-packages (from transformers) (1.19.5)\n",
            "Requirement already satisfied: packaging>=20.0 in /usr/local/lib/python3.7/dist-packages (from transformers) (21.0)\n",
            "Collecting huggingface-hub>=0.0.17\n",
            "  Downloading huggingface_hub-0.0.19-py3-none-any.whl (56 kB)\n",
            "\u001b[K     |████████████████████████████████| 56 kB 4.8 MB/s \n",
            "\u001b[?25hRequirement already satisfied: filelock in /usr/local/lib/python3.7/dist-packages (from transformers) (3.3.0)\n",
            "Requirement already satisfied: tqdm>=4.27 in /usr/local/lib/python3.7/dist-packages (from transformers) (4.62.3)\n",
            "Collecting pyyaml>=5.1\n",
            "  Downloading PyYAML-5.4.1-cp37-cp37m-manylinux1_x86_64.whl (636 kB)\n",
            "\u001b[K     |████████████████████████████████| 636 kB 60.1 MB/s \n",
            "\u001b[?25hRequirement already satisfied: typing-extensions in /usr/local/lib/python3.7/dist-packages (from huggingface-hub>=0.0.17->transformers) (3.7.4.3)\n",
            "Requirement already satisfied: pyparsing>=2.0.2 in /usr/local/lib/python3.7/dist-packages (from packaging>=20.0->transformers) (2.4.7)\n",
            "Requirement already satisfied: zipp>=0.5 in /usr/local/lib/python3.7/dist-packages (from importlib-metadata->transformers) (3.6.0)\n",
            "Requirement already satisfied: chardet<4,>=3.0.2 in /usr/local/lib/python3.7/dist-packages (from requests->transformers) (3.0.4)\n",
            "Requirement already satisfied: certifi>=2017.4.17 in /usr/local/lib/python3.7/dist-packages (from requests->transformers) (2021.5.30)\n",
            "Requirement already satisfied: urllib3!=1.25.0,!=1.25.1,<1.26,>=1.21.1 in /usr/local/lib/python3.7/dist-packages (from requests->transformers) (1.24.3)\n",
            "Requirement already satisfied: idna<3,>=2.5 in /usr/local/lib/python3.7/dist-packages (from requests->transformers) (2.10)\n",
            "Requirement already satisfied: joblib in /usr/local/lib/python3.7/dist-packages (from sacremoses->transformers) (1.0.1)\n",
            "Requirement already satisfied: six in /usr/local/lib/python3.7/dist-packages (from sacremoses->transformers) (1.15.0)\n",
            "Requirement already satisfied: click in /usr/local/lib/python3.7/dist-packages (from sacremoses->transformers) (7.1.2)\n",
            "Installing collected packages: pyyaml, tokenizers, sacremoses, huggingface-hub, transformers\n",
            "  Attempting uninstall: pyyaml\n",
            "    Found existing installation: PyYAML 3.13\n",
            "    Uninstalling PyYAML-3.13:\n",
            "      Successfully uninstalled PyYAML-3.13\n",
            "Successfully installed huggingface-hub-0.0.19 pyyaml-5.4.1 sacremoses-0.0.46 tokenizers-0.10.3 transformers-4.11.3\n"
          ]
        }
      ]
    },
    {
      "cell_type": "code",
      "metadata": {
        "colab": {
          "base_uri": "https://localhost:8080/",
          "height": 305,
          "referenced_widgets": [
            "fc168c9f57c3471090cd2c29e321e1e8",
            "f5e2f4c57976463cba8185060520a2a9",
            "e0d12b0be7594098bec470e121a7612c",
            "68dbeb05ac7d4503a4e7d5ad242b4d31",
            "461f70eb5a204128a04b4ee5b5b25a50",
            "6d66fd25ce04477fb6dd988ee8007cb6",
            "53f4af3b1bd54e70811d90fc6d5e3872",
            "c564b635d7834041b11941cf49bad770",
            "cab42ed9856e4a3aa677135b3d537157"
          ]
        },
        "id": "1eESVuPZ4NEr",
        "outputId": "5156528d-b932-42ef-a72b-1c9f1cc200d4"
      },
      "source": [
        "\n",
        "from transformers import T5Tokenizer, T5Config, T5ForConditionalGeneration\n",
        "from transformers import BartForConditionalGeneration, BartTokenizer, BartConfig\n",
        "\n",
        "import gensim\n",
        "from gensim.summarization import summarize\n",
        "\n",
        "\n",
        "my_model = T5ForConditionalGeneration.from_pretrained('t5-small')\n",
        "tokenizer = T5Tokenizer.from_pretrained('t5-small')\n",
        "\n",
        "\n",
        "bart_tokenizer = BartTokenizer.from_pretrained('facebook/bart-large-cnn')\n",
        "bart_model = BartForConditionalGeneration.from_pretrained(\n",
        "    'facebook/bart-large-cnn')\n",
        "\n"
      ],
      "execution_count": null,
      "outputs": [
        {
          "output_type": "display_data",
          "data": {
            "application/vnd.jupyter.widget-view+json": {
              "model_id": "fc168c9f57c3471090cd2c29e321e1e8",
              "version_minor": 0,
              "version_major": 2
            },
            "text/plain": [
              "Downloading:   0%|          | 0.00/1.17k [00:00<?, ?B/s]"
            ]
          },
          "metadata": {}
        },
        {
          "output_type": "display_data",
          "data": {
            "application/vnd.jupyter.widget-view+json": {
              "model_id": "f5e2f4c57976463cba8185060520a2a9",
              "version_minor": 0,
              "version_major": 2
            },
            "text/plain": [
              "Downloading:   0%|          | 0.00/231M [00:00<?, ?B/s]"
            ]
          },
          "metadata": {}
        },
        {
          "output_type": "display_data",
          "data": {
            "application/vnd.jupyter.widget-view+json": {
              "model_id": "e0d12b0be7594098bec470e121a7612c",
              "version_minor": 0,
              "version_major": 2
            },
            "text/plain": [
              "Downloading:   0%|          | 0.00/773k [00:00<?, ?B/s]"
            ]
          },
          "metadata": {}
        },
        {
          "output_type": "display_data",
          "data": {
            "application/vnd.jupyter.widget-view+json": {
              "model_id": "68dbeb05ac7d4503a4e7d5ad242b4d31",
              "version_minor": 0,
              "version_major": 2
            },
            "text/plain": [
              "Downloading:   0%|          | 0.00/1.32M [00:00<?, ?B/s]"
            ]
          },
          "metadata": {}
        },
        {
          "output_type": "display_data",
          "data": {
            "application/vnd.jupyter.widget-view+json": {
              "model_id": "461f70eb5a204128a04b4ee5b5b25a50",
              "version_minor": 0,
              "version_major": 2
            },
            "text/plain": [
              "Downloading:   0%|          | 0.00/878k [00:00<?, ?B/s]"
            ]
          },
          "metadata": {}
        },
        {
          "output_type": "display_data",
          "data": {
            "application/vnd.jupyter.widget-view+json": {
              "model_id": "6d66fd25ce04477fb6dd988ee8007cb6",
              "version_minor": 0,
              "version_major": 2
            },
            "text/plain": [
              "Downloading:   0%|          | 0.00/446k [00:00<?, ?B/s]"
            ]
          },
          "metadata": {}
        },
        {
          "output_type": "display_data",
          "data": {
            "application/vnd.jupyter.widget-view+json": {
              "model_id": "53f4af3b1bd54e70811d90fc6d5e3872",
              "version_minor": 0,
              "version_major": 2
            },
            "text/plain": [
              "Downloading:   0%|          | 0.00/1.29M [00:00<?, ?B/s]"
            ]
          },
          "metadata": {}
        },
        {
          "output_type": "display_data",
          "data": {
            "application/vnd.jupyter.widget-view+json": {
              "model_id": "c564b635d7834041b11941cf49bad770",
              "version_minor": 0,
              "version_major": 2
            },
            "text/plain": [
              "Downloading:   0%|          | 0.00/1.55k [00:00<?, ?B/s]"
            ]
          },
          "metadata": {}
        },
        {
          "output_type": "display_data",
          "data": {
            "application/vnd.jupyter.widget-view+json": {
              "model_id": "cab42ed9856e4a3aa677135b3d537157",
              "version_minor": 0,
              "version_major": 2
            },
            "text/plain": [
              "Downloading:   0%|          | 0.00/1.51G [00:00<?, ?B/s]"
            ]
          },
          "metadata": {}
        }
      ]
    },
    {
      "cell_type": "code",
      "metadata": {
        "id": "FFEk2SVE5kwn"
      },
      "source": [
        "def summarize_textrank(text):\n",
        "    print(\"input\", text)\n",
        "\n",
        "    # TextRank with Gensim\n",
        "    summary = summarize(text, ratio=0.2)\n",
        "    print(\"Summary:\", summary)\n",
        "    return summary\n",
        "\n",
        "\n",
        "def summarize_t5(original_text):\n",
        "    text = \"summarize:\" + original_text\n",
        "\n",
        "    # encoding the input text\n",
        "    input_ids = tokenizer.encode(text, return_tensors='pt', max_length=512)\n",
        "\n",
        "    # Generating summary ids\n",
        "    summary_ids = my_model.generate(input_ids)\n",
        "    summary_ids\n",
        "    \n",
        "    # Decoding the tensor and printing the summary.\n",
        "    t5_summary = tokenizer.decode(summary_ids[0])\n",
        "    print(t5_summary)\n",
        "    return t5_summary\n",
        "\n",
        "\n",
        "def summarize_bart(original_text):\n",
        "    # Encoding the inputs and passing them to model.generate()\n",
        "    inputs = bart_tokenizer.batch_encode_plus(\n",
        "        [original_text], return_tensors='pt')\n",
        "    summary_ids = bart_model.generate(inputs['input_ids'], early_stopping=True)\n",
        "\n",
        "    # Decoding and printing the summary\n",
        "    bart_summary = bart_tokenizer.decode(\n",
        "        summary_ids[0], skip_special_tokens=True)\n",
        "    print(\"Summary:\", bart_summary)\n",
        "    return bart_summary"
      ],
      "execution_count": null,
      "outputs": []
    },
    {
      "cell_type": "code",
      "metadata": {
        "id": "ibm_0F_XPrVF"
      },
      "source": [
        "inp = \"Okay. Hi, I'm Ellie, and I only presenting our project Smartly Serve for Coastal Hacks today. A lot of people these days use the Internet and social media, and even though the other sometimes be a great place, me and my team and notice that after using the Internet, a lot of people might feel sad or angry or stressed without knowing what cause those negative emotions. If this continues for a long period of time, this might affect the person's mood drastically and affect very well being, or even lead to things such as anxiety or depression. Our team tried to propose a solution that solves this problem by making the users more self aware and self conscience of these feelings, and when they are triggered so that they can limit their usage or completely stop their usage of the websites that trigger their negative emotions a lot.\"\n",
        "dict = {}\n",
        "dict['1'].append('hello')\n",
        "prind"
      ],
      "execution_count": null,
      "outputs": []
    },
    {
      "cell_type": "code",
      "metadata": {
        "colab": {
          "base_uri": "https://localhost:8080/"
        },
        "id": "w5PO6iA35qT3",
        "outputId": "f731532a-cdfc-4804-a321-83c418a6cf7b"
      },
      "source": [
        "!pip install flask-ngrok flask-cors"
      ],
      "execution_count": null,
      "outputs": [
        {
          "output_type": "stream",
          "name": "stdout",
          "text": [
            "Collecting flask-ngrok\n",
            "  Downloading flask_ngrok-0.0.25-py3-none-any.whl (3.1 kB)\n",
            "Collecting flask-cors\n",
            "  Downloading Flask_Cors-3.0.10-py2.py3-none-any.whl (14 kB)\n",
            "Requirement already satisfied: requests in /usr/local/lib/python3.7/dist-packages (from flask-ngrok) (2.23.0)\n",
            "Requirement already satisfied: Flask>=0.8 in /usr/local/lib/python3.7/dist-packages (from flask-ngrok) (1.1.4)\n",
            "Requirement already satisfied: Werkzeug<2.0,>=0.15 in /usr/local/lib/python3.7/dist-packages (from Flask>=0.8->flask-ngrok) (1.0.1)\n",
            "Requirement already satisfied: click<8.0,>=5.1 in /usr/local/lib/python3.7/dist-packages (from Flask>=0.8->flask-ngrok) (7.1.2)\n",
            "Requirement already satisfied: Jinja2<3.0,>=2.10.1 in /usr/local/lib/python3.7/dist-packages (from Flask>=0.8->flask-ngrok) (2.11.3)\n",
            "Requirement already satisfied: itsdangerous<2.0,>=0.24 in /usr/local/lib/python3.7/dist-packages (from Flask>=0.8->flask-ngrok) (1.1.0)\n",
            "Requirement already satisfied: MarkupSafe>=0.23 in /usr/local/lib/python3.7/dist-packages (from Jinja2<3.0,>=2.10.1->Flask>=0.8->flask-ngrok) (2.0.1)\n",
            "Requirement already satisfied: Six in /usr/local/lib/python3.7/dist-packages (from flask-cors) (1.15.0)\n",
            "Requirement already satisfied: idna<3,>=2.5 in /usr/local/lib/python3.7/dist-packages (from requests->flask-ngrok) (2.10)\n",
            "Requirement already satisfied: chardet<4,>=3.0.2 in /usr/local/lib/python3.7/dist-packages (from requests->flask-ngrok) (3.0.4)\n",
            "Requirement already satisfied: urllib3!=1.25.0,!=1.25.1,<1.26,>=1.21.1 in /usr/local/lib/python3.7/dist-packages (from requests->flask-ngrok) (1.24.3)\n",
            "Requirement already satisfied: certifi>=2017.4.17 in /usr/local/lib/python3.7/dist-packages (from requests->flask-ngrok) (2021.5.30)\n",
            "Installing collected packages: flask-ngrok, flask-cors\n",
            "Successfully installed flask-cors-3.0.10 flask-ngrok-0.0.25\n"
          ]
        }
      ]
    },
    {
      "cell_type": "code",
      "metadata": {
        "colab": {
          "base_uri": "https://localhost:8080/"
        },
        "id": "asWa89ixA3Ad",
        "outputId": "0cd38687-ffc1-495a-f636-ad1e203c8f67"
      },
      "source": [
        "from flask import Flask, request, jsonify\n",
        "from flask_ngrok import run_with_ngrok\n",
        "from flask_cors import CORS\n",
        "from werkzeug.utils import secure_filename\n",
        "import json\n",
        "\n",
        "app = Flask(__name__)\n",
        "run_with_ngrok(app)\n",
        "CORS(app)\n",
        "\n",
        "dict_f = {} \n",
        "\n",
        "@app.route(\"/text\", methods=[\"POST\"])\n",
        "def get_text():\n",
        "  # data = request.args.get('data')\n",
        "  data = request.get_json()\n",
        "  # text = request.form.get['text']\n",
        "  # print(text)\n",
        "  print(data)\n",
        "\n",
        "  # posted data\n",
        "  id = data['id']\n",
        "  content = data['text']\n",
        "  \n",
        "  dict_f[id] = [content]\n",
        "  print(dict_f)\n",
        "\n",
        "  #summary at index 0\n",
        "  dict_f[id][0] = summarize_bart(content)\n",
        "  \n",
        "  #description at index 1\n",
        "  des = summarize_t5(content)\n",
        "  dict_f[id].append(des)\n",
        "  print(dict_f)\n",
        "\n",
        "  # content at index 2\n",
        "  dict_f[id].append(content)\n",
        "  print(dict_f)\n",
        "\n",
        "  resp = jsonify(success=True)\n",
        "  return resp\n",
        "\n",
        "@app.route(\"/summary\")\n",
        "def get_summary():\n",
        "  id = request.args.get('id')\n",
        "  print(dict_f[id])\n",
        "\n",
        "  return jsonify({\"description\": dict_f[id][1] , \"summary\": dict_f[id][0], \"text\": dict_f[id][2]})\n",
        "\n",
        "@app.route(\"/\")\n",
        "def index():\n",
        "  data = \"Okay. Hi, I'm Ellie, and I only presenting our project Smartly Serve for Coastal Hacks today. A lot of people these days use the Internet and social media, and even though the other sometimes be a great place, me and my team and notice that after using the Internet, a lot of people might feel sad or angry or stressed without knowing what cause those negative emotions. If this continues for a long period of time, this might affect the person's mood drastically and affect very well being, or even lead to things such as anxiety or depression. Our team tried to propose a solution that solves this problem by making the users more self aware and self conscience of these feelings, and when they are triggered so that they can limit their usage or completely stop their usage of the websites that trigger their negative emotions a lot.\"\n",
        "  # summary = summarize(data, ratio=0.1)\n",
        "  summary = summarize_bart(data)\n",
        "  print(summary)\n",
        "  return f\"<h3>{data}</h3><br><h4>{summary}</h4>\"\n",
        "app.run()"
      ],
      "execution_count": null,
      "outputs": [
        {
          "output_type": "stream",
          "name": "stdout",
          "text": [
            " * Serving Flask app \"__main__\" (lazy loading)\n",
            " * Environment: production\n",
            "\u001b[31m   WARNING: This is a development server. Do not use it in a production deployment.\u001b[0m\n",
            "\u001b[2m   Use a production WSGI server instead.\u001b[0m\n",
            " * Debug mode: off\n"
          ]
        },
        {
          "output_type": "stream",
          "name": "stderr",
          "text": [
            " * Running on http://127.0.0.1:5000/ (Press CTRL+C to quit)\n"
          ]
        },
        {
          "output_type": "stream",
          "name": "stdout",
          "text": [
            " * Running on http://a9ea-34-71-214-106.ngrok.io\n",
            " * Traffic stats available on http://127.0.0.1:4040\n"
          ]
        },
        {
          "output_type": "stream",
          "name": "stderr",
          "text": [
            "127.0.0.1 - - [10/Oct/2021 13:05:21] \"\u001b[37mGET / HTTP/1.1\u001b[0m\" 200 -\n"
          ]
        },
        {
          "output_type": "stream",
          "name": "stdout",
          "text": [
            "Summary: A lot of people might feel sad or angry or stressed without knowing what cause those negative emotions. If this continues for a long period of time, this might affect the person's mood drastically. Our team tried to propose a solution that solves this problem by making the users more self aware and self conscience of these feelings.\n",
            "A lot of people might feel sad or angry or stressed without knowing what cause those negative emotions. If this continues for a long period of time, this might affect the person's mood drastically. Our team tried to propose a solution that solves this problem by making the users more self aware and self conscience of these feelings.\n"
          ]
        },
        {
          "output_type": "stream",
          "name": "stderr",
          "text": [
            "127.0.0.1 - - [10/Oct/2021 13:05:22] \"\u001b[33mGET /favicon.ico HTTP/1.1\u001b[0m\" 404 -\n"
          ]
        },
        {
          "output_type": "stream",
          "name": "stdout",
          "text": [
            "{'id': '123454', 'text': \"Okay. Hi, I'm Ellie, and I only presenting our project Smartly Serve for Coastal Hacks today. A lot of people these days use the Internet and social media, and even though the other sometimes be a great place, me and my team and notice that after using the Internet, a lot of people might feel sad or angry or stressed without knowing what cause those negative emotions. If this continues for a long period of time, this might affect the person's mood drastically and affect very well being, or even lead to things such as anxiety or depression. Our team tried to propose a solution that solves this problem by making the users more self aware and self conscience of these feelings, and when they are triggered so that they can limit their usage or completely stop their usage of the websites that trigger their negative emotions a lot.\"}\n",
            "{'123454': [\"Okay. Hi, I'm Ellie, and I only presenting our project Smartly Serve for Coastal Hacks today. A lot of people these days use the Internet and social media, and even though the other sometimes be a great place, me and my team and notice that after using the Internet, a lot of people might feel sad or angry or stressed without knowing what cause those negative emotions. If this continues for a long period of time, this might affect the person's mood drastically and affect very well being, or even lead to things such as anxiety or depression. Our team tried to propose a solution that solves this problem by making the users more self aware and self conscience of these feelings, and when they are triggered so that they can limit their usage or completely stop their usage of the websites that trigger their negative emotions a lot.\"]}\n"
          ]
        },
        {
          "output_type": "stream",
          "name": "stderr",
          "text": [
            "Truncation was not explicitly activated but `max_length` is provided a specific value, please use `truncation=True` to explicitly truncate examples to max length. Defaulting to 'longest_first' truncation strategy. If you encode pairs of sequences (GLUE-style) with the tokenizer you can select this strategy more precisely by providing a specific strategy to `truncation`.\n"
          ]
        },
        {
          "output_type": "stream",
          "name": "stdout",
          "text": [
            "Summary: A lot of people might feel sad or angry or stressed without knowing what cause those negative emotions. If this continues for a long period of time, this might affect the person's mood drastically. Our team tried to propose a solution that solves this problem by making the users more self aware and self conscience of these feelings.\n"
          ]
        },
        {
          "output_type": "stream",
          "name": "stderr",
          "text": [
            "127.0.0.1 - - [10/Oct/2021 13:07:04] \"\u001b[37mPOST /text HTTP/1.1\u001b[0m\" 200 -\n"
          ]
        },
        {
          "output_type": "stream",
          "name": "stdout",
          "text": [
            "<pad> a lot of people use the internet and social media, and even though the other sometimes be\n",
            "{'123454': [\"A lot of people might feel sad or angry or stressed without knowing what cause those negative emotions. If this continues for a long period of time, this might affect the person's mood drastically. Our team tried to propose a solution that solves this problem by making the users more self aware and self conscience of these feelings.\", '<pad> a lot of people use the internet and social media, and even though the other sometimes be']}\n",
            "{'123454': [\"A lot of people might feel sad or angry or stressed without knowing what cause those negative emotions. If this continues for a long period of time, this might affect the person's mood drastically. Our team tried to propose a solution that solves this problem by making the users more self aware and self conscience of these feelings.\", '<pad> a lot of people use the internet and social media, and even though the other sometimes be', \"Okay. Hi, I'm Ellie, and I only presenting our project Smartly Serve for Coastal Hacks today. A lot of people these days use the Internet and social media, and even though the other sometimes be a great place, me and my team and notice that after using the Internet, a lot of people might feel sad or angry or stressed without knowing what cause those negative emotions. If this continues for a long period of time, this might affect the person's mood drastically and affect very well being, or even lead to things such as anxiety or depression. Our team tried to propose a solution that solves this problem by making the users more self aware and self conscience of these feelings, and when they are triggered so that they can limit their usage or completely stop their usage of the websites that trigger their negative emotions a lot.\"]}\n"
          ]
        },
        {
          "output_type": "stream",
          "name": "stderr",
          "text": [
            "127.0.0.1 - - [10/Oct/2021 13:07:37] \"\u001b[37mGET /summary?id=123454 HTTP/1.1\u001b[0m\" 200 -\n"
          ]
        },
        {
          "output_type": "stream",
          "name": "stdout",
          "text": [
            "[\"A lot of people might feel sad or angry or stressed without knowing what cause those negative emotions. If this continues for a long period of time, this might affect the person's mood drastically. Our team tried to propose a solution that solves this problem by making the users more self aware and self conscience of these feelings.\", '<pad> a lot of people use the internet and social media, and even though the other sometimes be', \"Okay. Hi, I'm Ellie, and I only presenting our project Smartly Serve for Coastal Hacks today. A lot of people these days use the Internet and social media, and even though the other sometimes be a great place, me and my team and notice that after using the Internet, a lot of people might feel sad or angry or stressed without knowing what cause those negative emotions. If this continues for a long period of time, this might affect the person's mood drastically and affect very well being, or even lead to things such as anxiety or depression. Our team tried to propose a solution that solves this problem by making the users more self aware and self conscience of these feelings, and when they are triggered so that they can limit their usage or completely stop their usage of the websites that trigger their negative emotions a lot.\"]\n"
          ]
        },
        {
          "output_type": "stream",
          "name": "stderr",
          "text": [
            "[2021-10-10 13:08:06,032] ERROR in app: Exception on /summary [GET]\n",
            "Traceback (most recent call last):\n",
            "  File \"/usr/local/lib/python3.7/dist-packages/flask/app.py\", line 2447, in wsgi_app\n",
            "    response = self.full_dispatch_request()\n",
            "  File \"/usr/local/lib/python3.7/dist-packages/flask/app.py\", line 1952, in full_dispatch_request\n",
            "    rv = self.handle_user_exception(e)\n",
            "  File \"/usr/local/lib/python3.7/dist-packages/flask_cors/extension.py\", line 165, in wrapped_function\n",
            "    return cors_after_request(app.make_response(f(*args, **kwargs)))\n",
            "  File \"/usr/local/lib/python3.7/dist-packages/flask/app.py\", line 1821, in handle_user_exception\n",
            "    reraise(exc_type, exc_value, tb)\n",
            "  File \"/usr/local/lib/python3.7/dist-packages/flask/_compat.py\", line 39, in reraise\n",
            "    raise value\n",
            "  File \"/usr/local/lib/python3.7/dist-packages/flask/app.py\", line 1950, in full_dispatch_request\n",
            "    rv = self.dispatch_request()\n",
            "  File \"/usr/local/lib/python3.7/dist-packages/flask/app.py\", line 1936, in dispatch_request\n",
            "    return self.view_functions[rule.endpoint](**req.view_args)\n",
            "  File \"<ipython-input-10-0b809dc5b839>\", line 46, in get_summary\n",
            "    print(dict_f[id])\n",
            "KeyError: ''\n",
            "127.0.0.1 - - [10/Oct/2021 13:08:06] \"\u001b[35m\u001b[1mGET /summary?id= HTTP/1.1\u001b[0m\" 500 -\n",
            "127.0.0.1 - - [10/Oct/2021 13:08:14] \"\u001b[31m\u001b[1mGET /text HTTP/1.1\u001b[0m\" 405 -\n",
            "127.0.0.1 - - [10/Oct/2021 13:10:17] \"\u001b[37mGET /summary?id=123454 HTTP/1.1\u001b[0m\" 200 -\n"
          ]
        },
        {
          "output_type": "stream",
          "name": "stdout",
          "text": [
            "[\"A lot of people might feel sad or angry or stressed without knowing what cause those negative emotions. If this continues for a long period of time, this might affect the person's mood drastically. Our team tried to propose a solution that solves this problem by making the users more self aware and self conscience of these feelings.\", '<pad> a lot of people use the internet and social media, and even though the other sometimes be', \"Okay. Hi, I'm Ellie, and I only presenting our project Smartly Serve for Coastal Hacks today. A lot of people these days use the Internet and social media, and even though the other sometimes be a great place, me and my team and notice that after using the Internet, a lot of people might feel sad or angry or stressed without knowing what cause those negative emotions. If this continues for a long period of time, this might affect the person's mood drastically and affect very well being, or even lead to things such as anxiety or depression. Our team tried to propose a solution that solves this problem by making the users more self aware and self conscience of these feelings, and when they are triggered so that they can limit their usage or completely stop their usage of the websites that trigger their negative emotions a lot.\"]\n",
            "{'text': \"Okay. Hi, I'm Ellie and I will be presenting our project Smartly Serve for Coastal Hacks today. A lot of people these days use the Internet and social media, and even though the other sometimes be a great place, me and my team and notice that after using the Internet, a lot of people might feel sad or angry or stressed without knowing what cause those negative emotions. If this continues for a long period of time, this might affect the person's mood drastically and affect very well being, or even lead to things such as anxiety or depression. Our team tried to propose a solution that solves this problem by making users more self aware and self conscience of these feelings, and when they are triggered so that they can limit their usage or completely stop their usage of the websites that trigger their negative emotions. A lot.\", 'id': 'vuov0k2b9-cd63-4341-b2ca-e89da85b44fd'}\n",
            "{'123454': [\"A lot of people might feel sad or angry or stressed without knowing what cause those negative emotions. If this continues for a long period of time, this might affect the person's mood drastically. Our team tried to propose a solution that solves this problem by making the users more self aware and self conscience of these feelings.\", '<pad> a lot of people use the internet and social media, and even though the other sometimes be', \"Okay. Hi, I'm Ellie, and I only presenting our project Smartly Serve for Coastal Hacks today. A lot of people these days use the Internet and social media, and even though the other sometimes be a great place, me and my team and notice that after using the Internet, a lot of people might feel sad or angry or stressed without knowing what cause those negative emotions. If this continues for a long period of time, this might affect the person's mood drastically and affect very well being, or even lead to things such as anxiety or depression. Our team tried to propose a solution that solves this problem by making the users more self aware and self conscience of these feelings, and when they are triggered so that they can limit their usage or completely stop their usage of the websites that trigger their negative emotions a lot.\"], 'vuov0k2b9-cd63-4341-b2ca-e89da85b44fd': [\"Okay. Hi, I'm Ellie and I will be presenting our project Smartly Serve for Coastal Hacks today. A lot of people these days use the Internet and social media, and even though the other sometimes be a great place, me and my team and notice that after using the Internet, a lot of people might feel sad or angry or stressed without knowing what cause those negative emotions. If this continues for a long period of time, this might affect the person's mood drastically and affect very well being, or even lead to things such as anxiety or depression. Our team tried to propose a solution that solves this problem by making users more self aware and self conscience of these feelings, and when they are triggered so that they can limit their usage or completely stop their usage of the websites that trigger their negative emotions. A lot.\"]}\n",
            "Summary: A lot of people use the Internet and social media a lot. Ellie and her team tried to propose a solution that makes users more self aware and self conscience of these feelings, and when they are triggered so that they can limit their usage or completely stop their usage of websites that trigger their negative emotions.\n"
          ]
        },
        {
          "output_type": "stream",
          "name": "stderr",
          "text": [
            "127.0.0.1 - - [10/Oct/2021 13:43:46] \"\u001b[37mPOST /text HTTP/1.1\u001b[0m\" 200 -\n"
          ]
        },
        {
          "output_type": "stream",
          "name": "stdout",
          "text": [
            "<pad> a lot of people use the internet and social media, and even though the other sometimes be\n",
            "{'123454': [\"A lot of people might feel sad or angry or stressed without knowing what cause those negative emotions. If this continues for a long period of time, this might affect the person's mood drastically. Our team tried to propose a solution that solves this problem by making the users more self aware and self conscience of these feelings.\", '<pad> a lot of people use the internet and social media, and even though the other sometimes be', \"Okay. Hi, I'm Ellie, and I only presenting our project Smartly Serve for Coastal Hacks today. A lot of people these days use the Internet and social media, and even though the other sometimes be a great place, me and my team and notice that after using the Internet, a lot of people might feel sad or angry or stressed without knowing what cause those negative emotions. If this continues for a long period of time, this might affect the person's mood drastically and affect very well being, or even lead to things such as anxiety or depression. Our team tried to propose a solution that solves this problem by making the users more self aware and self conscience of these feelings, and when they are triggered so that they can limit their usage or completely stop their usage of the websites that trigger their negative emotions a lot.\"], 'vuov0k2b9-cd63-4341-b2ca-e89da85b44fd': ['A lot of people use the Internet and social media a lot. Ellie and her team tried to propose a solution that makes users more self aware and self conscience of these feelings, and when they are triggered so that they can limit their usage or completely stop their usage of websites that trigger their negative emotions.', '<pad> a lot of people use the internet and social media, and even though the other sometimes be']}\n",
            "{'123454': [\"A lot of people might feel sad or angry or stressed without knowing what cause those negative emotions. If this continues for a long period of time, this might affect the person's mood drastically. Our team tried to propose a solution that solves this problem by making the users more self aware and self conscience of these feelings.\", '<pad> a lot of people use the internet and social media, and even though the other sometimes be', \"Okay. Hi, I'm Ellie, and I only presenting our project Smartly Serve for Coastal Hacks today. A lot of people these days use the Internet and social media, and even though the other sometimes be a great place, me and my team and notice that after using the Internet, a lot of people might feel sad or angry or stressed without knowing what cause those negative emotions. If this continues for a long period of time, this might affect the person's mood drastically and affect very well being, or even lead to things such as anxiety or depression. Our team tried to propose a solution that solves this problem by making the users more self aware and self conscience of these feelings, and when they are triggered so that they can limit their usage or completely stop their usage of the websites that trigger their negative emotions a lot.\"], 'vuov0k2b9-cd63-4341-b2ca-e89da85b44fd': ['A lot of people use the Internet and social media a lot. Ellie and her team tried to propose a solution that makes users more self aware and self conscience of these feelings, and when they are triggered so that they can limit their usage or completely stop their usage of websites that trigger their negative emotions.', '<pad> a lot of people use the internet and social media, and even though the other sometimes be', \"Okay. Hi, I'm Ellie and I will be presenting our project Smartly Serve for Coastal Hacks today. A lot of people these days use the Internet and social media, and even though the other sometimes be a great place, me and my team and notice that after using the Internet, a lot of people might feel sad or angry or stressed without knowing what cause those negative emotions. If this continues for a long period of time, this might affect the person's mood drastically and affect very well being, or even lead to things such as anxiety or depression. Our team tried to propose a solution that solves this problem by making users more self aware and self conscience of these feelings, and when they are triggered so that they can limit their usage or completely stop their usage of the websites that trigger their negative emotions. A lot.\"]}\n"
          ]
        },
        {
          "output_type": "stream",
          "name": "stderr",
          "text": [
            "127.0.0.1 - - [10/Oct/2021 13:43:46] \"\u001b[37mGET /summary?id=vuov0k2b9-cd63-4341-b2ca-e89da85b44fd HTTP/1.1\u001b[0m\" 200 -\n"
          ]
        },
        {
          "output_type": "stream",
          "name": "stdout",
          "text": [
            "['A lot of people use the Internet and social media a lot. Ellie and her team tried to propose a solution that makes users more self aware and self conscience of these feelings, and when they are triggered so that they can limit their usage or completely stop their usage of websites that trigger their negative emotions.', '<pad> a lot of people use the internet and social media, and even though the other sometimes be', \"Okay. Hi, I'm Ellie and I will be presenting our project Smartly Serve for Coastal Hacks today. A lot of people these days use the Internet and social media, and even though the other sometimes be a great place, me and my team and notice that after using the Internet, a lot of people might feel sad or angry or stressed without knowing what cause those negative emotions. If this continues for a long period of time, this might affect the person's mood drastically and affect very well being, or even lead to things such as anxiety or depression. Our team tried to propose a solution that solves this problem by making users more self aware and self conscience of these feelings, and when they are triggered so that they can limit their usage or completely stop their usage of the websites that trigger their negative emotions. A lot.\"]\n",
            "{'text': \"Okay. Hi, I'm Ellie, and I only presenting our project Smartly Serve for Coastal Hacks today. A lot of people these days use the Internet and social media, and even though the other sometimes be a great place, me and my team and notice that after using the Internet, a lot of people might feel sad or angry or stressed without knowing what cause those negative emotions. If this continues for a long period of time, this might affect the person's mood drastically and affect very well being, or even lead to things such as anxiety or depression. Our team tried to propose a solution that solves this problem by making users more self aware and self conscience of these feelings, and when they are triggered so that they can limit their usage or completely stop their usage of the websites that trigger their negative emotions. A lot.\", 'id': 'vuowxqc9y-ea9b-4c0b-a957-66960639c5a7'}\n",
            "{'123454': [\"A lot of people might feel sad or angry or stressed without knowing what cause those negative emotions. If this continues for a long period of time, this might affect the person's mood drastically. Our team tried to propose a solution that solves this problem by making the users more self aware and self conscience of these feelings.\", '<pad> a lot of people use the internet and social media, and even though the other sometimes be', \"Okay. Hi, I'm Ellie, and I only presenting our project Smartly Serve for Coastal Hacks today. A lot of people these days use the Internet and social media, and even though the other sometimes be a great place, me and my team and notice that after using the Internet, a lot of people might feel sad or angry or stressed without knowing what cause those negative emotions. If this continues for a long period of time, this might affect the person's mood drastically and affect very well being, or even lead to things such as anxiety or depression. Our team tried to propose a solution that solves this problem by making the users more self aware and self conscience of these feelings, and when they are triggered so that they can limit their usage or completely stop their usage of the websites that trigger their negative emotions a lot.\"], 'vuov0k2b9-cd63-4341-b2ca-e89da85b44fd': ['A lot of people use the Internet and social media a lot. Ellie and her team tried to propose a solution that makes users more self aware and self conscience of these feelings, and when they are triggered so that they can limit their usage or completely stop their usage of websites that trigger their negative emotions.', '<pad> a lot of people use the internet and social media, and even though the other sometimes be', \"Okay. Hi, I'm Ellie and I will be presenting our project Smartly Serve for Coastal Hacks today. A lot of people these days use the Internet and social media, and even though the other sometimes be a great place, me and my team and notice that after using the Internet, a lot of people might feel sad or angry or stressed without knowing what cause those negative emotions. If this continues for a long period of time, this might affect the person's mood drastically and affect very well being, or even lead to things such as anxiety or depression. Our team tried to propose a solution that solves this problem by making users more self aware and self conscience of these feelings, and when they are triggered so that they can limit their usage or completely stop their usage of the websites that trigger their negative emotions. A lot.\"], 'vuowxqc9y-ea9b-4c0b-a957-66960639c5a7': [\"Okay. Hi, I'm Ellie, and I only presenting our project Smartly Serve for Coastal Hacks today. A lot of people these days use the Internet and social media, and even though the other sometimes be a great place, me and my team and notice that after using the Internet, a lot of people might feel sad or angry or stressed without knowing what cause those negative emotions. If this continues for a long period of time, this might affect the person's mood drastically and affect very well being, or even lead to things such as anxiety or depression. Our team tried to propose a solution that solves this problem by making users more self aware and self conscience of these feelings, and when they are triggered so that they can limit their usage or completely stop their usage of the websites that trigger their negative emotions. A lot.\"]}\n",
            "Summary: A lot of people might feel sad or angry or stressed without knowing what cause those negative emotions. This might affect the person's mood drastically and affect very well being. Our team tried to propose a solution that solves this problem by making users more self aware and self conscience of these feelings, and when they are triggered.\n"
          ]
        },
        {
          "output_type": "stream",
          "name": "stderr",
          "text": [
            "127.0.0.1 - - [10/Oct/2021 13:54:39] \"\u001b[37mPOST /text HTTP/1.1\u001b[0m\" 200 -\n"
          ]
        },
        {
          "output_type": "stream",
          "name": "stdout",
          "text": [
            "<pad> a lot of people use the internet and social media, and even though the other sometimes be\n",
            "{'123454': [\"A lot of people might feel sad or angry or stressed without knowing what cause those negative emotions. If this continues for a long period of time, this might affect the person's mood drastically. Our team tried to propose a solution that solves this problem by making the users more self aware and self conscience of these feelings.\", '<pad> a lot of people use the internet and social media, and even though the other sometimes be', \"Okay. Hi, I'm Ellie, and I only presenting our project Smartly Serve for Coastal Hacks today. A lot of people these days use the Internet and social media, and even though the other sometimes be a great place, me and my team and notice that after using the Internet, a lot of people might feel sad or angry or stressed without knowing what cause those negative emotions. If this continues for a long period of time, this might affect the person's mood drastically and affect very well being, or even lead to things such as anxiety or depression. Our team tried to propose a solution that solves this problem by making the users more self aware and self conscience of these feelings, and when they are triggered so that they can limit their usage or completely stop their usage of the websites that trigger their negative emotions a lot.\"], 'vuov0k2b9-cd63-4341-b2ca-e89da85b44fd': ['A lot of people use the Internet and social media a lot. Ellie and her team tried to propose a solution that makes users more self aware and self conscience of these feelings, and when they are triggered so that they can limit their usage or completely stop their usage of websites that trigger their negative emotions.', '<pad> a lot of people use the internet and social media, and even though the other sometimes be', \"Okay. Hi, I'm Ellie and I will be presenting our project Smartly Serve for Coastal Hacks today. A lot of people these days use the Internet and social media, and even though the other sometimes be a great place, me and my team and notice that after using the Internet, a lot of people might feel sad or angry or stressed without knowing what cause those negative emotions. If this continues for a long period of time, this might affect the person's mood drastically and affect very well being, or even lead to things such as anxiety or depression. Our team tried to propose a solution that solves this problem by making users more self aware and self conscience of these feelings, and when they are triggered so that they can limit their usage or completely stop their usage of the websites that trigger their negative emotions. A lot.\"], 'vuowxqc9y-ea9b-4c0b-a957-66960639c5a7': [\"A lot of people might feel sad or angry or stressed without knowing what cause those negative emotions. This might affect the person's mood drastically and affect very well being. Our team tried to propose a solution that solves this problem by making users more self aware and self conscience of these feelings, and when they are triggered.\", '<pad> a lot of people use the internet and social media, and even though the other sometimes be']}\n",
            "{'123454': [\"A lot of people might feel sad or angry or stressed without knowing what cause those negative emotions. If this continues for a long period of time, this might affect the person's mood drastically. Our team tried to propose a solution that solves this problem by making the users more self aware and self conscience of these feelings.\", '<pad> a lot of people use the internet and social media, and even though the other sometimes be', \"Okay. Hi, I'm Ellie, and I only presenting our project Smartly Serve for Coastal Hacks today. A lot of people these days use the Internet and social media, and even though the other sometimes be a great place, me and my team and notice that after using the Internet, a lot of people might feel sad or angry or stressed without knowing what cause those negative emotions. If this continues for a long period of time, this might affect the person's mood drastically and affect very well being, or even lead to things such as anxiety or depression. Our team tried to propose a solution that solves this problem by making the users more self aware and self conscience of these feelings, and when they are triggered so that they can limit their usage or completely stop their usage of the websites that trigger their negative emotions a lot.\"], 'vuov0k2b9-cd63-4341-b2ca-e89da85b44fd': ['A lot of people use the Internet and social media a lot. Ellie and her team tried to propose a solution that makes users more self aware and self conscience of these feelings, and when they are triggered so that they can limit their usage or completely stop their usage of websites that trigger their negative emotions.', '<pad> a lot of people use the internet and social media, and even though the other sometimes be', \"Okay. Hi, I'm Ellie and I will be presenting our project Smartly Serve for Coastal Hacks today. A lot of people these days use the Internet and social media, and even though the other sometimes be a great place, me and my team and notice that after using the Internet, a lot of people might feel sad or angry or stressed without knowing what cause those negative emotions. If this continues for a long period of time, this might affect the person's mood drastically and affect very well being, or even lead to things such as anxiety or depression. Our team tried to propose a solution that solves this problem by making users more self aware and self conscience of these feelings, and when they are triggered so that they can limit their usage or completely stop their usage of the websites that trigger their negative emotions. A lot.\"], 'vuowxqc9y-ea9b-4c0b-a957-66960639c5a7': [\"A lot of people might feel sad or angry or stressed without knowing what cause those negative emotions. This might affect the person's mood drastically and affect very well being. Our team tried to propose a solution that solves this problem by making users more self aware and self conscience of these feelings, and when they are triggered.\", '<pad> a lot of people use the internet and social media, and even though the other sometimes be', \"Okay. Hi, I'm Ellie, and I only presenting our project Smartly Serve for Coastal Hacks today. A lot of people these days use the Internet and social media, and even though the other sometimes be a great place, me and my team and notice that after using the Internet, a lot of people might feel sad or angry or stressed without knowing what cause those negative emotions. If this continues for a long period of time, this might affect the person's mood drastically and affect very well being, or even lead to things such as anxiety or depression. Our team tried to propose a solution that solves this problem by making users more self aware and self conscience of these feelings, and when they are triggered so that they can limit their usage or completely stop their usage of the websites that trigger their negative emotions. A lot.\"]}\n"
          ]
        },
        {
          "output_type": "stream",
          "name": "stderr",
          "text": [
            "127.0.0.1 - - [10/Oct/2021 13:54:39] \"\u001b[37mGET /summary?id=vuowxqc9y-ea9b-4c0b-a957-66960639c5a7 HTTP/1.1\u001b[0m\" 200 -\n"
          ]
        },
        {
          "output_type": "stream",
          "name": "stdout",
          "text": [
            "[\"A lot of people might feel sad or angry or stressed without knowing what cause those negative emotions. This might affect the person's mood drastically and affect very well being. Our team tried to propose a solution that solves this problem by making users more self aware and self conscience of these feelings, and when they are triggered.\", '<pad> a lot of people use the internet and social media, and even though the other sometimes be', \"Okay. Hi, I'm Ellie, and I only presenting our project Smartly Serve for Coastal Hacks today. A lot of people these days use the Internet and social media, and even though the other sometimes be a great place, me and my team and notice that after using the Internet, a lot of people might feel sad or angry or stressed without knowing what cause those negative emotions. If this continues for a long period of time, this might affect the person's mood drastically and affect very well being, or even lead to things such as anxiety or depression. Our team tried to propose a solution that solves this problem by making users more self aware and self conscience of these feelings, and when they are triggered so that they can limit their usage or completely stop their usage of the websites that trigger their negative emotions. A lot.\"]\n"
          ]
        },
        {
          "output_type": "stream",
          "name": "stderr",
          "text": [
            "[2021-10-10 14:07:03,241] ERROR in app: Exception on /summary [GET]\n",
            "Traceback (most recent call last):\n",
            "  File \"/usr/local/lib/python3.7/dist-packages/flask/app.py\", line 2447, in wsgi_app\n",
            "    response = self.full_dispatch_request()\n",
            "  File \"/usr/local/lib/python3.7/dist-packages/flask/app.py\", line 1952, in full_dispatch_request\n",
            "    rv = self.handle_user_exception(e)\n",
            "  File \"/usr/local/lib/python3.7/dist-packages/flask_cors/extension.py\", line 165, in wrapped_function\n",
            "    return cors_after_request(app.make_response(f(*args, **kwargs)))\n",
            "  File \"/usr/local/lib/python3.7/dist-packages/flask/app.py\", line 1821, in handle_user_exception\n",
            "    reraise(exc_type, exc_value, tb)\n",
            "  File \"/usr/local/lib/python3.7/dist-packages/flask/_compat.py\", line 39, in reraise\n",
            "    raise value\n",
            "  File \"/usr/local/lib/python3.7/dist-packages/flask/app.py\", line 1950, in full_dispatch_request\n",
            "    rv = self.dispatch_request()\n",
            "  File \"/usr/local/lib/python3.7/dist-packages/flask/app.py\", line 1936, in dispatch_request\n",
            "    return self.view_functions[rule.endpoint](**req.view_args)\n",
            "  File \"<ipython-input-10-0b809dc5b839>\", line 46, in get_summary\n",
            "    print(dict_f[id])\n",
            "KeyError: ''\n",
            "127.0.0.1 - - [10/Oct/2021 14:07:03] \"\u001b[31m\u001b[1mGET /text HTTP/1.1\u001b[0m\" 405 -\n",
            "127.0.0.1 - - [10/Oct/2021 14:07:03] \"\u001b[35m\u001b[1mGET /summary?id HTTP/1.1\u001b[0m\" 500 -\n",
            "[2021-10-10 14:07:03,472] ERROR in app: Exception on /summary [GET]\n",
            "Traceback (most recent call last):\n",
            "  File \"/usr/local/lib/python3.7/dist-packages/flask/app.py\", line 2447, in wsgi_app\n",
            "    response = self.full_dispatch_request()\n",
            "  File \"/usr/local/lib/python3.7/dist-packages/flask/app.py\", line 1952, in full_dispatch_request\n",
            "    rv = self.handle_user_exception(e)\n",
            "  File \"/usr/local/lib/python3.7/dist-packages/flask_cors/extension.py\", line 165, in wrapped_function\n",
            "    return cors_after_request(app.make_response(f(*args, **kwargs)))\n",
            "  File \"/usr/local/lib/python3.7/dist-packages/flask/app.py\", line 1821, in handle_user_exception\n",
            "    reraise(exc_type, exc_value, tb)\n",
            "  File \"/usr/local/lib/python3.7/dist-packages/flask/_compat.py\", line 39, in reraise\n",
            "    raise value\n",
            "  File \"/usr/local/lib/python3.7/dist-packages/flask/app.py\", line 1950, in full_dispatch_request\n",
            "    rv = self.dispatch_request()\n",
            "  File \"/usr/local/lib/python3.7/dist-packages/flask/app.py\", line 1936, in dispatch_request\n",
            "    return self.view_functions[rule.endpoint](**req.view_args)\n",
            "  File \"<ipython-input-10-0b809dc5b839>\", line 46, in get_summary\n",
            "    print(dict_f[id])\n",
            "KeyError: ''\n",
            "127.0.0.1 - - [10/Oct/2021 14:07:03] \"\u001b[31m\u001b[1mGET /text HTTP/1.1\u001b[0m\" 405 -\n",
            "127.0.0.1 - - [10/Oct/2021 14:07:03] \"\u001b[35m\u001b[1mGET /summary?id HTTP/1.1\u001b[0m\" 500 -\n"
          ]
        },
        {
          "output_type": "stream",
          "name": "stdout",
          "text": [
            "{'text': \"Hello and welcome. My name is Dr. Helen Prior, and I'm a lecturer in music here at the University of hall. I'm a music psychologist and as my colleague, Dr. Elaine King, and we've put together this presentation to let you know a little bit about what music psychology can tell us about performance preparation. Psychology is the study of the mind. Music psychology investigates the mind in relation to music. It usually gathers empirical evidence through experiments or observations to get answer specific research questions. We're going to focus today on what music psychology can tell us about performance preparation, and we're going to focus on three areas how to make the most of your practice time, whether you should memorize your performance, and how to minimize problems from performance anxiety. We hope that these areas will be directly relevant to your studies in music performance. So how can you make the most of your practice time? As a musician, you will know just how important practice is. When we're talking about practice, we mean repeated action as a means of acquiring skill. Practice can vary a lot. Sometimes we play our instrument for fun just to enjoy the sounds were making. Other times we practice in a highly structured way with explicit goals. We structure our time, carefully monitor weaknesses in our playing, use specific tasks to combat those weaknesses, and concentrate intently while we're doing it. This latter type of practice has been defined as deliberate practice by two researchers and expertise Cramp and Ericson. Both the quantity and the quality of deliberate practice are important, so let's look at those. In turn, there is a clear relationship between hours of deliberate practice and expertise. Have a look at this graph taken from work by music psychologist John Slobodan. The Gray bars show Max show how much practice was done between one grade and the next. The line shows the cumulative number of hours of practice people have done. Overall, he compared five different ability groups but found no significant differences between them, suggesting that broadly, to get to a particular standard, you need to have accumulated a particular number of hours of deliberate practice.\", 'id': 'vur1lpc5c-38ae-4afb-8386-1f0d3f57e005'}\n",
            "{'123454': [\"A lot of people might feel sad or angry or stressed without knowing what cause those negative emotions. If this continues for a long period of time, this might affect the person's mood drastically. Our team tried to propose a solution that solves this problem by making the users more self aware and self conscience of these feelings.\", '<pad> a lot of people use the internet and social media, and even though the other sometimes be', \"Okay. Hi, I'm Ellie, and I only presenting our project Smartly Serve for Coastal Hacks today. A lot of people these days use the Internet and social media, and even though the other sometimes be a great place, me and my team and notice that after using the Internet, a lot of people might feel sad or angry or stressed without knowing what cause those negative emotions. If this continues for a long period of time, this might affect the person's mood drastically and affect very well being, or even lead to things such as anxiety or depression. Our team tried to propose a solution that solves this problem by making the users more self aware and self conscience of these feelings, and when they are triggered so that they can limit their usage or completely stop their usage of the websites that trigger their negative emotions a lot.\"], 'vuov0k2b9-cd63-4341-b2ca-e89da85b44fd': ['A lot of people use the Internet and social media a lot. Ellie and her team tried to propose a solution that makes users more self aware and self conscience of these feelings, and when they are triggered so that they can limit their usage or completely stop their usage of websites that trigger their negative emotions.', '<pad> a lot of people use the internet and social media, and even though the other sometimes be', \"Okay. Hi, I'm Ellie and I will be presenting our project Smartly Serve for Coastal Hacks today. A lot of people these days use the Internet and social media, and even though the other sometimes be a great place, me and my team and notice that after using the Internet, a lot of people might feel sad or angry or stressed without knowing what cause those negative emotions. If this continues for a long period of time, this might affect the person's mood drastically and affect very well being, or even lead to things such as anxiety or depression. Our team tried to propose a solution that solves this problem by making users more self aware and self conscience of these feelings, and when they are triggered so that they can limit their usage or completely stop their usage of the websites that trigger their negative emotions. A lot.\"], 'vuowxqc9y-ea9b-4c0b-a957-66960639c5a7': [\"A lot of people might feel sad or angry or stressed without knowing what cause those negative emotions. This might affect the person's mood drastically and affect very well being. Our team tried to propose a solution that solves this problem by making users more self aware and self conscience of these feelings, and when they are triggered.\", '<pad> a lot of people use the internet and social media, and even though the other sometimes be', \"Okay. Hi, I'm Ellie, and I only presenting our project Smartly Serve for Coastal Hacks today. A lot of people these days use the Internet and social media, and even though the other sometimes be a great place, me and my team and notice that after using the Internet, a lot of people might feel sad or angry or stressed without knowing what cause those negative emotions. If this continues for a long period of time, this might affect the person's mood drastically and affect very well being, or even lead to things such as anxiety or depression. Our team tried to propose a solution that solves this problem by making users more self aware and self conscience of these feelings, and when they are triggered so that they can limit their usage or completely stop their usage of the websites that trigger their negative emotions. A lot.\"], 'vur1lpc5c-38ae-4afb-8386-1f0d3f57e005': [\"Hello and welcome. My name is Dr. Helen Prior, and I'm a lecturer in music here at the University of hall. I'm a music psychologist and as my colleague, Dr. Elaine King, and we've put together this presentation to let you know a little bit about what music psychology can tell us about performance preparation. Psychology is the study of the mind. Music psychology investigates the mind in relation to music. It usually gathers empirical evidence through experiments or observations to get answer specific research questions. We're going to focus today on what music psychology can tell us about performance preparation, and we're going to focus on three areas how to make the most of your practice time, whether you should memorize your performance, and how to minimize problems from performance anxiety. We hope that these areas will be directly relevant to your studies in music performance. So how can you make the most of your practice time? As a musician, you will know just how important practice is. When we're talking about practice, we mean repeated action as a means of acquiring skill. Practice can vary a lot. Sometimes we play our instrument for fun just to enjoy the sounds were making. Other times we practice in a highly structured way with explicit goals. We structure our time, carefully monitor weaknesses in our playing, use specific tasks to combat those weaknesses, and concentrate intently while we're doing it. This latter type of practice has been defined as deliberate practice by two researchers and expertise Cramp and Ericson. Both the quantity and the quality of deliberate practice are important, so let's look at those. In turn, there is a clear relationship between hours of deliberate practice and expertise. Have a look at this graph taken from work by music psychologist John Slobodan. The Gray bars show Max show how much practice was done between one grade and the next. The line shows the cumulative number of hours of practice people have done. Overall, he compared five different ability groups but found no significant differences between them, suggesting that broadly, to get to a particular standard, you need to have accumulated a particular number of hours of deliberate practice.\"]}\n",
            "Summary: Dr Helen Prior: Music psychology investigates the mind in relation to music. We're going to focus today on what music psychology can tell us about performance preparation. How to make the most of your practice time, whether you should memorize your performance, and how to minimize problems from performance anxiety.\n"
          ]
        },
        {
          "output_type": "stream",
          "name": "stderr",
          "text": [
            "127.0.0.1 - - [10/Oct/2021 14:41:59] \"\u001b[37mPOST /text HTTP/1.1\u001b[0m\" 200 -\n"
          ]
        },
        {
          "output_type": "stream",
          "name": "stdout",
          "text": [
            "<pad> music psychologist and music psychologist. we're going to focus on three areas how to make\n",
            "{'123454': [\"A lot of people might feel sad or angry or stressed without knowing what cause those negative emotions. If this continues for a long period of time, this might affect the person's mood drastically. Our team tried to propose a solution that solves this problem by making the users more self aware and self conscience of these feelings.\", '<pad> a lot of people use the internet and social media, and even though the other sometimes be', \"Okay. Hi, I'm Ellie, and I only presenting our project Smartly Serve for Coastal Hacks today. A lot of people these days use the Internet and social media, and even though the other sometimes be a great place, me and my team and notice that after using the Internet, a lot of people might feel sad or angry or stressed without knowing what cause those negative emotions. If this continues for a long period of time, this might affect the person's mood drastically and affect very well being, or even lead to things such as anxiety or depression. Our team tried to propose a solution that solves this problem by making the users more self aware and self conscience of these feelings, and when they are triggered so that they can limit their usage or completely stop their usage of the websites that trigger their negative emotions a lot.\"], 'vuov0k2b9-cd63-4341-b2ca-e89da85b44fd': ['A lot of people use the Internet and social media a lot. Ellie and her team tried to propose a solution that makes users more self aware and self conscience of these feelings, and when they are triggered so that they can limit their usage or completely stop their usage of websites that trigger their negative emotions.', '<pad> a lot of people use the internet and social media, and even though the other sometimes be', \"Okay. Hi, I'm Ellie and I will be presenting our project Smartly Serve for Coastal Hacks today. A lot of people these days use the Internet and social media, and even though the other sometimes be a great place, me and my team and notice that after using the Internet, a lot of people might feel sad or angry or stressed without knowing what cause those negative emotions. If this continues for a long period of time, this might affect the person's mood drastically and affect very well being, or even lead to things such as anxiety or depression. Our team tried to propose a solution that solves this problem by making users more self aware and self conscience of these feelings, and when they are triggered so that they can limit their usage or completely stop their usage of the websites that trigger their negative emotions. A lot.\"], 'vuowxqc9y-ea9b-4c0b-a957-66960639c5a7': [\"A lot of people might feel sad or angry or stressed without knowing what cause those negative emotions. This might affect the person's mood drastically and affect very well being. Our team tried to propose a solution that solves this problem by making users more self aware and self conscience of these feelings, and when they are triggered.\", '<pad> a lot of people use the internet and social media, and even though the other sometimes be', \"Okay. Hi, I'm Ellie, and I only presenting our project Smartly Serve for Coastal Hacks today. A lot of people these days use the Internet and social media, and even though the other sometimes be a great place, me and my team and notice that after using the Internet, a lot of people might feel sad or angry or stressed without knowing what cause those negative emotions. If this continues for a long period of time, this might affect the person's mood drastically and affect very well being, or even lead to things such as anxiety or depression. Our team tried to propose a solution that solves this problem by making users more self aware and self conscience of these feelings, and when they are triggered so that they can limit their usage or completely stop their usage of the websites that trigger their negative emotions. A lot.\"], 'vur1lpc5c-38ae-4afb-8386-1f0d3f57e005': [\"Dr Helen Prior: Music psychology investigates the mind in relation to music. We're going to focus today on what music psychology can tell us about performance preparation. How to make the most of your practice time, whether you should memorize your performance, and how to minimize problems from performance anxiety.\", \"<pad> music psychologist and music psychologist. we're going to focus on three areas how to make\"]}\n",
            "{'123454': [\"A lot of people might feel sad or angry or stressed without knowing what cause those negative emotions. If this continues for a long period of time, this might affect the person's mood drastically. Our team tried to propose a solution that solves this problem by making the users more self aware and self conscience of these feelings.\", '<pad> a lot of people use the internet and social media, and even though the other sometimes be', \"Okay. Hi, I'm Ellie, and I only presenting our project Smartly Serve for Coastal Hacks today. A lot of people these days use the Internet and social media, and even though the other sometimes be a great place, me and my team and notice that after using the Internet, a lot of people might feel sad or angry or stressed without knowing what cause those negative emotions. If this continues for a long period of time, this might affect the person's mood drastically and affect very well being, or even lead to things such as anxiety or depression. Our team tried to propose a solution that solves this problem by making the users more self aware and self conscience of these feelings, and when they are triggered so that they can limit their usage or completely stop their usage of the websites that trigger their negative emotions a lot.\"], 'vuov0k2b9-cd63-4341-b2ca-e89da85b44fd': ['A lot of people use the Internet and social media a lot. Ellie and her team tried to propose a solution that makes users more self aware and self conscience of these feelings, and when they are triggered so that they can limit their usage or completely stop their usage of websites that trigger their negative emotions.', '<pad> a lot of people use the internet and social media, and even though the other sometimes be', \"Okay. Hi, I'm Ellie and I will be presenting our project Smartly Serve for Coastal Hacks today. A lot of people these days use the Internet and social media, and even though the other sometimes be a great place, me and my team and notice that after using the Internet, a lot of people might feel sad or angry or stressed without knowing what cause those negative emotions. If this continues for a long period of time, this might affect the person's mood drastically and affect very well being, or even lead to things such as anxiety or depression. Our team tried to propose a solution that solves this problem by making users more self aware and self conscience of these feelings, and when they are triggered so that they can limit their usage or completely stop their usage of the websites that trigger their negative emotions. A lot.\"], 'vuowxqc9y-ea9b-4c0b-a957-66960639c5a7': [\"A lot of people might feel sad or angry or stressed without knowing what cause those negative emotions. This might affect the person's mood drastically and affect very well being. Our team tried to propose a solution that solves this problem by making users more self aware and self conscience of these feelings, and when they are triggered.\", '<pad> a lot of people use the internet and social media, and even though the other sometimes be', \"Okay. Hi, I'm Ellie, and I only presenting our project Smartly Serve for Coastal Hacks today. A lot of people these days use the Internet and social media, and even though the other sometimes be a great place, me and my team and notice that after using the Internet, a lot of people might feel sad or angry or stressed without knowing what cause those negative emotions. If this continues for a long period of time, this might affect the person's mood drastically and affect very well being, or even lead to things such as anxiety or depression. Our team tried to propose a solution that solves this problem by making users more self aware and self conscience of these feelings, and when they are triggered so that they can limit their usage or completely stop their usage of the websites that trigger their negative emotions. A lot.\"], 'vur1lpc5c-38ae-4afb-8386-1f0d3f57e005': [\"Dr Helen Prior: Music psychology investigates the mind in relation to music. We're going to focus today on what music psychology can tell us about performance preparation. How to make the most of your practice time, whether you should memorize your performance, and how to minimize problems from performance anxiety.\", \"<pad> music psychologist and music psychologist. we're going to focus on three areas how to make\", \"Hello and welcome. My name is Dr. Helen Prior, and I'm a lecturer in music here at the University of hall. I'm a music psychologist and as my colleague, Dr. Elaine King, and we've put together this presentation to let you know a little bit about what music psychology can tell us about performance preparation. Psychology is the study of the mind. Music psychology investigates the mind in relation to music. It usually gathers empirical evidence through experiments or observations to get answer specific research questions. We're going to focus today on what music psychology can tell us about performance preparation, and we're going to focus on three areas how to make the most of your practice time, whether you should memorize your performance, and how to minimize problems from performance anxiety. We hope that these areas will be directly relevant to your studies in music performance. So how can you make the most of your practice time? As a musician, you will know just how important practice is. When we're talking about practice, we mean repeated action as a means of acquiring skill. Practice can vary a lot. Sometimes we play our instrument for fun just to enjoy the sounds were making. Other times we practice in a highly structured way with explicit goals. We structure our time, carefully monitor weaknesses in our playing, use specific tasks to combat those weaknesses, and concentrate intently while we're doing it. This latter type of practice has been defined as deliberate practice by two researchers and expertise Cramp and Ericson. Both the quantity and the quality of deliberate practice are important, so let's look at those. In turn, there is a clear relationship between hours of deliberate practice and expertise. Have a look at this graph taken from work by music psychologist John Slobodan. The Gray bars show Max show how much practice was done between one grade and the next. The line shows the cumulative number of hours of practice people have done. Overall, he compared five different ability groups but found no significant differences between them, suggesting that broadly, to get to a particular standard, you need to have accumulated a particular number of hours of deliberate practice.\"]}\n",
            "{'text': \"Hello and welcome. My name is Dr. Helen Prior, and I'm a lecturer in music here at the University of hall. I'm a music psychologist and as my colleague, Dr. Elaine King, and we've put together this presentation to let you know a little bit about what music psychology can tell us about performance preparation. Psychology is the study of the mind. Music psychology investigates the mind in relation to music. It usually gathers empirical evidence through experiments or observations to get answer specific research questions. We're going to focus today on what music psychology can tell us about performance preparation, and we're going to focus on three areas how to make the most of your practice time, whether you should memorize your performance, and how to minimize problems from performance anxiety. We hope that these areas will be directly relevant to your studies in music performance. So how can you make the most of your practice time? As a musician, you will know just how important practice is. When we're talking about practice, we mean repeated action as a means of acquiring skill. Practice can vary a lot. Sometimes we play our instrument for fun just to enjoy the sounds were making. Other times we practice in a highly structured way with explicit goals. We structure our time, carefully monitor weaknesses in our playing, use specific tasks to combat those weaknesses, and concentrate intently while we're doing it. This latter type of practice has been defined as deliberate practice by two researchers and expertise, Cramp and Ericson. Both the quantity and the quality of deliberate practice are important, so let's look at those. In turn, there is a clear relationship between hours of deliberate practice and expertise. Have a look at this graph taken from work by a music psychologist, John Slobodan. The Gray bars show Max show how much practice was done between one grade and the next. The line shows the cumulative number of hours of practice Peoples have done. Overall, he compared five different ability groups but found no significant differences between them, suggesting that broadly, to get to a particular standard, you need to have accumulated a particular number of hours of deliberate practice.\", 'id': 'vur1u9d36-5e04-42d7-9eeb-af05d0eee2f4'}\n",
            "{'123454': [\"A lot of people might feel sad or angry or stressed without knowing what cause those negative emotions. If this continues for a long period of time, this might affect the person's mood drastically. Our team tried to propose a solution that solves this problem by making the users more self aware and self conscience of these feelings.\", '<pad> a lot of people use the internet and social media, and even though the other sometimes be', \"Okay. Hi, I'm Ellie, and I only presenting our project Smartly Serve for Coastal Hacks today. A lot of people these days use the Internet and social media, and even though the other sometimes be a great place, me and my team and notice that after using the Internet, a lot of people might feel sad or angry or stressed without knowing what cause those negative emotions. If this continues for a long period of time, this might affect the person's mood drastically and affect very well being, or even lead to things such as anxiety or depression. Our team tried to propose a solution that solves this problem by making the users more self aware and self conscience of these feelings, and when they are triggered so that they can limit their usage or completely stop their usage of the websites that trigger their negative emotions a lot.\"], 'vuov0k2b9-cd63-4341-b2ca-e89da85b44fd': ['A lot of people use the Internet and social media a lot. Ellie and her team tried to propose a solution that makes users more self aware and self conscience of these feelings, and when they are triggered so that they can limit their usage or completely stop their usage of websites that trigger their negative emotions.', '<pad> a lot of people use the internet and social media, and even though the other sometimes be', \"Okay. Hi, I'm Ellie and I will be presenting our project Smartly Serve for Coastal Hacks today. A lot of people these days use the Internet and social media, and even though the other sometimes be a great place, me and my team and notice that after using the Internet, a lot of people might feel sad or angry or stressed without knowing what cause those negative emotions. If this continues for a long period of time, this might affect the person's mood drastically and affect very well being, or even lead to things such as anxiety or depression. Our team tried to propose a solution that solves this problem by making users more self aware and self conscience of these feelings, and when they are triggered so that they can limit their usage or completely stop their usage of the websites that trigger their negative emotions. A lot.\"], 'vuowxqc9y-ea9b-4c0b-a957-66960639c5a7': [\"A lot of people might feel sad or angry or stressed without knowing what cause those negative emotions. This might affect the person's mood drastically and affect very well being. Our team tried to propose a solution that solves this problem by making users more self aware and self conscience of these feelings, and when they are triggered.\", '<pad> a lot of people use the internet and social media, and even though the other sometimes be', \"Okay. Hi, I'm Ellie, and I only presenting our project Smartly Serve for Coastal Hacks today. A lot of people these days use the Internet and social media, and even though the other sometimes be a great place, me and my team and notice that after using the Internet, a lot of people might feel sad or angry or stressed without knowing what cause those negative emotions. If this continues for a long period of time, this might affect the person's mood drastically and affect very well being, or even lead to things such as anxiety or depression. Our team tried to propose a solution that solves this problem by making users more self aware and self conscience of these feelings, and when they are triggered so that they can limit their usage or completely stop their usage of the websites that trigger their negative emotions. A lot.\"], 'vur1lpc5c-38ae-4afb-8386-1f0d3f57e005': [\"Dr Helen Prior: Music psychology investigates the mind in relation to music. We're going to focus today on what music psychology can tell us about performance preparation. How to make the most of your practice time, whether you should memorize your performance, and how to minimize problems from performance anxiety.\", \"<pad> music psychologist and music psychologist. we're going to focus on three areas how to make\", \"Hello and welcome. My name is Dr. Helen Prior, and I'm a lecturer in music here at the University of hall. I'm a music psychologist and as my colleague, Dr. Elaine King, and we've put together this presentation to let you know a little bit about what music psychology can tell us about performance preparation. Psychology is the study of the mind. Music psychology investigates the mind in relation to music. It usually gathers empirical evidence through experiments or observations to get answer specific research questions. We're going to focus today on what music psychology can tell us about performance preparation, and we're going to focus on three areas how to make the most of your practice time, whether you should memorize your performance, and how to minimize problems from performance anxiety. We hope that these areas will be directly relevant to your studies in music performance. So how can you make the most of your practice time? As a musician, you will know just how important practice is. When we're talking about practice, we mean repeated action as a means of acquiring skill. Practice can vary a lot. Sometimes we play our instrument for fun just to enjoy the sounds were making. Other times we practice in a highly structured way with explicit goals. We structure our time, carefully monitor weaknesses in our playing, use specific tasks to combat those weaknesses, and concentrate intently while we're doing it. This latter type of practice has been defined as deliberate practice by two researchers and expertise Cramp and Ericson. Both the quantity and the quality of deliberate practice are important, so let's look at those. In turn, there is a clear relationship between hours of deliberate practice and expertise. Have a look at this graph taken from work by music psychologist John Slobodan. The Gray bars show Max show how much practice was done between one grade and the next. The line shows the cumulative number of hours of practice people have done. Overall, he compared five different ability groups but found no significant differences between them, suggesting that broadly, to get to a particular standard, you need to have accumulated a particular number of hours of deliberate practice.\"], 'vur1u9d36-5e04-42d7-9eeb-af05d0eee2f4': [\"Hello and welcome. My name is Dr. Helen Prior, and I'm a lecturer in music here at the University of hall. I'm a music psychologist and as my colleague, Dr. Elaine King, and we've put together this presentation to let you know a little bit about what music psychology can tell us about performance preparation. Psychology is the study of the mind. Music psychology investigates the mind in relation to music. It usually gathers empirical evidence through experiments or observations to get answer specific research questions. We're going to focus today on what music psychology can tell us about performance preparation, and we're going to focus on three areas how to make the most of your practice time, whether you should memorize your performance, and how to minimize problems from performance anxiety. We hope that these areas will be directly relevant to your studies in music performance. So how can you make the most of your practice time? As a musician, you will know just how important practice is. When we're talking about practice, we mean repeated action as a means of acquiring skill. Practice can vary a lot. Sometimes we play our instrument for fun just to enjoy the sounds were making. Other times we practice in a highly structured way with explicit goals. We structure our time, carefully monitor weaknesses in our playing, use specific tasks to combat those weaknesses, and concentrate intently while we're doing it. This latter type of practice has been defined as deliberate practice by two researchers and expertise, Cramp and Ericson. Both the quantity and the quality of deliberate practice are important, so let's look at those. In turn, there is a clear relationship between hours of deliberate practice and expertise. Have a look at this graph taken from work by a music psychologist, John Slobodan. The Gray bars show Max show how much practice was done between one grade and the next. The line shows the cumulative number of hours of practice Peoples have done. Overall, he compared five different ability groups but found no significant differences between them, suggesting that broadly, to get to a particular standard, you need to have accumulated a particular number of hours of deliberate practice.\"]}\n",
            "Summary: Dr Helen Prior: Music psychology investigates the mind in relation to music. We're going to focus today on what music psychology can tell us about performance preparation. How to make the most of your practice time, whether you should memorize your performance, and how to minimize problems from performance anxiety.\n"
          ]
        },
        {
          "output_type": "stream",
          "name": "stderr",
          "text": [
            "127.0.0.1 - - [10/Oct/2021 14:42:49] \"\u001b[37mPOST /text HTTP/1.1\u001b[0m\" 200 -\n"
          ]
        },
        {
          "output_type": "stream",
          "name": "stdout",
          "text": [
            "<pad> music psychologist and music psychologist, a colleague, has put together this presentation to let you know\n",
            "{'123454': [\"A lot of people might feel sad or angry or stressed without knowing what cause those negative emotions. If this continues for a long period of time, this might affect the person's mood drastically. Our team tried to propose a solution that solves this problem by making the users more self aware and self conscience of these feelings.\", '<pad> a lot of people use the internet and social media, and even though the other sometimes be', \"Okay. Hi, I'm Ellie, and I only presenting our project Smartly Serve for Coastal Hacks today. A lot of people these days use the Internet and social media, and even though the other sometimes be a great place, me and my team and notice that after using the Internet, a lot of people might feel sad or angry or stressed without knowing what cause those negative emotions. If this continues for a long period of time, this might affect the person's mood drastically and affect very well being, or even lead to things such as anxiety or depression. Our team tried to propose a solution that solves this problem by making the users more self aware and self conscience of these feelings, and when they are triggered so that they can limit their usage or completely stop their usage of the websites that trigger their negative emotions a lot.\"], 'vuov0k2b9-cd63-4341-b2ca-e89da85b44fd': ['A lot of people use the Internet and social media a lot. Ellie and her team tried to propose a solution that makes users more self aware and self conscience of these feelings, and when they are triggered so that they can limit their usage or completely stop their usage of websites that trigger their negative emotions.', '<pad> a lot of people use the internet and social media, and even though the other sometimes be', \"Okay. Hi, I'm Ellie and I will be presenting our project Smartly Serve for Coastal Hacks today. A lot of people these days use the Internet and social media, and even though the other sometimes be a great place, me and my team and notice that after using the Internet, a lot of people might feel sad or angry or stressed without knowing what cause those negative emotions. If this continues for a long period of time, this might affect the person's mood drastically and affect very well being, or even lead to things such as anxiety or depression. Our team tried to propose a solution that solves this problem by making users more self aware and self conscience of these feelings, and when they are triggered so that they can limit their usage or completely stop their usage of the websites that trigger their negative emotions. A lot.\"], 'vuowxqc9y-ea9b-4c0b-a957-66960639c5a7': [\"A lot of people might feel sad or angry or stressed without knowing what cause those negative emotions. This might affect the person's mood drastically and affect very well being. Our team tried to propose a solution that solves this problem by making users more self aware and self conscience of these feelings, and when they are triggered.\", '<pad> a lot of people use the internet and social media, and even though the other sometimes be', \"Okay. Hi, I'm Ellie, and I only presenting our project Smartly Serve for Coastal Hacks today. A lot of people these days use the Internet and social media, and even though the other sometimes be a great place, me and my team and notice that after using the Internet, a lot of people might feel sad or angry or stressed without knowing what cause those negative emotions. If this continues for a long period of time, this might affect the person's mood drastically and affect very well being, or even lead to things such as anxiety or depression. Our team tried to propose a solution that solves this problem by making users more self aware and self conscience of these feelings, and when they are triggered so that they can limit their usage or completely stop their usage of the websites that trigger their negative emotions. A lot.\"], 'vur1lpc5c-38ae-4afb-8386-1f0d3f57e005': [\"Dr Helen Prior: Music psychology investigates the mind in relation to music. We're going to focus today on what music psychology can tell us about performance preparation. How to make the most of your practice time, whether you should memorize your performance, and how to minimize problems from performance anxiety.\", \"<pad> music psychologist and music psychologist. we're going to focus on three areas how to make\", \"Hello and welcome. My name is Dr. Helen Prior, and I'm a lecturer in music here at the University of hall. I'm a music psychologist and as my colleague, Dr. Elaine King, and we've put together this presentation to let you know a little bit about what music psychology can tell us about performance preparation. Psychology is the study of the mind. Music psychology investigates the mind in relation to music. It usually gathers empirical evidence through experiments or observations to get answer specific research questions. We're going to focus today on what music psychology can tell us about performance preparation, and we're going to focus on three areas how to make the most of your practice time, whether you should memorize your performance, and how to minimize problems from performance anxiety. We hope that these areas will be directly relevant to your studies in music performance. So how can you make the most of your practice time? As a musician, you will know just how important practice is. When we're talking about practice, we mean repeated action as a means of acquiring skill. Practice can vary a lot. Sometimes we play our instrument for fun just to enjoy the sounds were making. Other times we practice in a highly structured way with explicit goals. We structure our time, carefully monitor weaknesses in our playing, use specific tasks to combat those weaknesses, and concentrate intently while we're doing it. This latter type of practice has been defined as deliberate practice by two researchers and expertise Cramp and Ericson. Both the quantity and the quality of deliberate practice are important, so let's look at those. In turn, there is a clear relationship between hours of deliberate practice and expertise. Have a look at this graph taken from work by music psychologist John Slobodan. The Gray bars show Max show how much practice was done between one grade and the next. The line shows the cumulative number of hours of practice people have done. Overall, he compared five different ability groups but found no significant differences between them, suggesting that broadly, to get to a particular standard, you need to have accumulated a particular number of hours of deliberate practice.\"], 'vur1u9d36-5e04-42d7-9eeb-af05d0eee2f4': [\"Dr Helen Prior: Music psychology investigates the mind in relation to music. We're going to focus today on what music psychology can tell us about performance preparation. How to make the most of your practice time, whether you should memorize your performance, and how to minimize problems from performance anxiety.\", '<pad> music psychologist and music psychologist, a colleague, has put together this presentation to let you know']}\n",
            "{'123454': [\"A lot of people might feel sad or angry or stressed without knowing what cause those negative emotions. If this continues for a long period of time, this might affect the person's mood drastically. Our team tried to propose a solution that solves this problem by making the users more self aware and self conscience of these feelings.\", '<pad> a lot of people use the internet and social media, and even though the other sometimes be', \"Okay. Hi, I'm Ellie, and I only presenting our project Smartly Serve for Coastal Hacks today. A lot of people these days use the Internet and social media, and even though the other sometimes be a great place, me and my team and notice that after using the Internet, a lot of people might feel sad or angry or stressed without knowing what cause those negative emotions. If this continues for a long period of time, this might affect the person's mood drastically and affect very well being, or even lead to things such as anxiety or depression. Our team tried to propose a solution that solves this problem by making the users more self aware and self conscience of these feelings, and when they are triggered so that they can limit their usage or completely stop their usage of the websites that trigger their negative emotions a lot.\"], 'vuov0k2b9-cd63-4341-b2ca-e89da85b44fd': ['A lot of people use the Internet and social media a lot. Ellie and her team tried to propose a solution that makes users more self aware and self conscience of these feelings, and when they are triggered so that they can limit their usage or completely stop their usage of websites that trigger their negative emotions.', '<pad> a lot of people use the internet and social media, and even though the other sometimes be', \"Okay. Hi, I'm Ellie and I will be presenting our project Smartly Serve for Coastal Hacks today. A lot of people these days use the Internet and social media, and even though the other sometimes be a great place, me and my team and notice that after using the Internet, a lot of people might feel sad or angry or stressed without knowing what cause those negative emotions. If this continues for a long period of time, this might affect the person's mood drastically and affect very well being, or even lead to things such as anxiety or depression. Our team tried to propose a solution that solves this problem by making users more self aware and self conscience of these feelings, and when they are triggered so that they can limit their usage or completely stop their usage of the websites that trigger their negative emotions. A lot.\"], 'vuowxqc9y-ea9b-4c0b-a957-66960639c5a7': [\"A lot of people might feel sad or angry or stressed without knowing what cause those negative emotions. This might affect the person's mood drastically and affect very well being. Our team tried to propose a solution that solves this problem by making users more self aware and self conscience of these feelings, and when they are triggered.\", '<pad> a lot of people use the internet and social media, and even though the other sometimes be', \"Okay. Hi, I'm Ellie, and I only presenting our project Smartly Serve for Coastal Hacks today. A lot of people these days use the Internet and social media, and even though the other sometimes be a great place, me and my team and notice that after using the Internet, a lot of people might feel sad or angry or stressed without knowing what cause those negative emotions. If this continues for a long period of time, this might affect the person's mood drastically and affect very well being, or even lead to things such as anxiety or depression. Our team tried to propose a solution that solves this problem by making users more self aware and self conscience of these feelings, and when they are triggered so that they can limit their usage or completely stop their usage of the websites that trigger their negative emotions. A lot.\"], 'vur1lpc5c-38ae-4afb-8386-1f0d3f57e005': [\"Dr Helen Prior: Music psychology investigates the mind in relation to music. We're going to focus today on what music psychology can tell us about performance preparation. How to make the most of your practice time, whether you should memorize your performance, and how to minimize problems from performance anxiety.\", \"<pad> music psychologist and music psychologist. we're going to focus on three areas how to make\", \"Hello and welcome. My name is Dr. Helen Prior, and I'm a lecturer in music here at the University of hall. I'm a music psychologist and as my colleague, Dr. Elaine King, and we've put together this presentation to let you know a little bit about what music psychology can tell us about performance preparation. Psychology is the study of the mind. Music psychology investigates the mind in relation to music. It usually gathers empirical evidence through experiments or observations to get answer specific research questions. We're going to focus today on what music psychology can tell us about performance preparation, and we're going to focus on three areas how to make the most of your practice time, whether you should memorize your performance, and how to minimize problems from performance anxiety. We hope that these areas will be directly relevant to your studies in music performance. So how can you make the most of your practice time? As a musician, you will know just how important practice is. When we're talking about practice, we mean repeated action as a means of acquiring skill. Practice can vary a lot. Sometimes we play our instrument for fun just to enjoy the sounds were making. Other times we practice in a highly structured way with explicit goals. We structure our time, carefully monitor weaknesses in our playing, use specific tasks to combat those weaknesses, and concentrate intently while we're doing it. This latter type of practice has been defined as deliberate practice by two researchers and expertise Cramp and Ericson. Both the quantity and the quality of deliberate practice are important, so let's look at those. In turn, there is a clear relationship between hours of deliberate practice and expertise. Have a look at this graph taken from work by music psychologist John Slobodan. The Gray bars show Max show how much practice was done between one grade and the next. The line shows the cumulative number of hours of practice people have done. Overall, he compared five different ability groups but found no significant differences between them, suggesting that broadly, to get to a particular standard, you need to have accumulated a particular number of hours of deliberate practice.\"], 'vur1u9d36-5e04-42d7-9eeb-af05d0eee2f4': [\"Dr Helen Prior: Music psychology investigates the mind in relation to music. We're going to focus today on what music psychology can tell us about performance preparation. How to make the most of your practice time, whether you should memorize your performance, and how to minimize problems from performance anxiety.\", '<pad> music psychologist and music psychologist, a colleague, has put together this presentation to let you know', \"Hello and welcome. My name is Dr. Helen Prior, and I'm a lecturer in music here at the University of hall. I'm a music psychologist and as my colleague, Dr. Elaine King, and we've put together this presentation to let you know a little bit about what music psychology can tell us about performance preparation. Psychology is the study of the mind. Music psychology investigates the mind in relation to music. It usually gathers empirical evidence through experiments or observations to get answer specific research questions. We're going to focus today on what music psychology can tell us about performance preparation, and we're going to focus on three areas how to make the most of your practice time, whether you should memorize your performance, and how to minimize problems from performance anxiety. We hope that these areas will be directly relevant to your studies in music performance. So how can you make the most of your practice time? As a musician, you will know just how important practice is. When we're talking about practice, we mean repeated action as a means of acquiring skill. Practice can vary a lot. Sometimes we play our instrument for fun just to enjoy the sounds were making. Other times we practice in a highly structured way with explicit goals. We structure our time, carefully monitor weaknesses in our playing, use specific tasks to combat those weaknesses, and concentrate intently while we're doing it. This latter type of practice has been defined as deliberate practice by two researchers and expertise, Cramp and Ericson. Both the quantity and the quality of deliberate practice are important, so let's look at those. In turn, there is a clear relationship between hours of deliberate practice and expertise. Have a look at this graph taken from work by a music psychologist, John Slobodan. The Gray bars show Max show how much practice was done between one grade and the next. The line shows the cumulative number of hours of practice Peoples have done. Overall, he compared five different ability groups but found no significant differences between them, suggesting that broadly, to get to a particular standard, you need to have accumulated a particular number of hours of deliberate practice.\"]}\n"
          ]
        },
        {
          "output_type": "stream",
          "name": "stderr",
          "text": [
            "127.0.0.1 - - [10/Oct/2021 14:42:49] \"\u001b[37mGET /summary?id=vur1u9d36-5e04-42d7-9eeb-af05d0eee2f4 HTTP/1.1\u001b[0m\" 200 -\n"
          ]
        },
        {
          "output_type": "stream",
          "name": "stdout",
          "text": [
            "[\"Dr Helen Prior: Music psychology investigates the mind in relation to music. We're going to focus today on what music psychology can tell us about performance preparation. How to make the most of your practice time, whether you should memorize your performance, and how to minimize problems from performance anxiety.\", '<pad> music psychologist and music psychologist, a colleague, has put together this presentation to let you know', \"Hello and welcome. My name is Dr. Helen Prior, and I'm a lecturer in music here at the University of hall. I'm a music psychologist and as my colleague, Dr. Elaine King, and we've put together this presentation to let you know a little bit about what music psychology can tell us about performance preparation. Psychology is the study of the mind. Music psychology investigates the mind in relation to music. It usually gathers empirical evidence through experiments or observations to get answer specific research questions. We're going to focus today on what music psychology can tell us about performance preparation, and we're going to focus on three areas how to make the most of your practice time, whether you should memorize your performance, and how to minimize problems from performance anxiety. We hope that these areas will be directly relevant to your studies in music performance. So how can you make the most of your practice time? As a musician, you will know just how important practice is. When we're talking about practice, we mean repeated action as a means of acquiring skill. Practice can vary a lot. Sometimes we play our instrument for fun just to enjoy the sounds were making. Other times we practice in a highly structured way with explicit goals. We structure our time, carefully monitor weaknesses in our playing, use specific tasks to combat those weaknesses, and concentrate intently while we're doing it. This latter type of practice has been defined as deliberate practice by two researchers and expertise, Cramp and Ericson. Both the quantity and the quality of deliberate practice are important, so let's look at those. In turn, there is a clear relationship between hours of deliberate practice and expertise. Have a look at this graph taken from work by a music psychologist, John Slobodan. The Gray bars show Max show how much practice was done between one grade and the next. The line shows the cumulative number of hours of practice Peoples have done. Overall, he compared five different ability groups but found no significant differences between them, suggesting that broadly, to get to a particular standard, you need to have accumulated a particular number of hours of deliberate practice.\"]\n"
          ]
        },
        {
          "output_type": "stream",
          "name": "stderr",
          "text": [
            "Token indices sequence length is longer than the specified maximum sequence length for this model (2630 > 1024). Running this sequence through the model will result in indexing errors\n",
            "[2021-10-10 15:04:22,058] ERROR in app: Exception on /text [POST]\n",
            "Traceback (most recent call last):\n",
            "  File \"/usr/local/lib/python3.7/dist-packages/flask/app.py\", line 2447, in wsgi_app\n",
            "    response = self.full_dispatch_request()\n",
            "  File \"/usr/local/lib/python3.7/dist-packages/flask/app.py\", line 1952, in full_dispatch_request\n",
            "    rv = self.handle_user_exception(e)\n",
            "  File \"/usr/local/lib/python3.7/dist-packages/flask_cors/extension.py\", line 165, in wrapped_function\n",
            "    return cors_after_request(app.make_response(f(*args, **kwargs)))\n",
            "  File \"/usr/local/lib/python3.7/dist-packages/flask/app.py\", line 1821, in handle_user_exception\n",
            "    reraise(exc_type, exc_value, tb)\n",
            "  File \"/usr/local/lib/python3.7/dist-packages/flask/_compat.py\", line 39, in reraise\n",
            "    raise value\n",
            "  File \"/usr/local/lib/python3.7/dist-packages/flask/app.py\", line 1950, in full_dispatch_request\n",
            "    rv = self.dispatch_request()\n",
            "  File \"/usr/local/lib/python3.7/dist-packages/flask/app.py\", line 1936, in dispatch_request\n",
            "    return self.view_functions[rule.endpoint](**req.view_args)\n",
            "  File \"<ipython-input-10-0b809dc5b839>\", line 29, in get_text\n",
            "    dict_f[id][0] = summarize_bart(content)\n",
            "  File \"<ipython-input-7-56ee771f8612>\", line 30, in summarize_bart\n",
            "    summary_ids = bart_model.generate(inputs['input_ids'], early_stopping=True)\n",
            "  File \"/usr/local/lib/python3.7/dist-packages/torch/autograd/grad_mode.py\", line 28, in decorate_context\n",
            "    return func(*args, **kwargs)\n",
            "  File \"/usr/local/lib/python3.7/dist-packages/transformers/generation_utils.py\", line 922, in generate\n",
            "    model_kwargs = self._prepare_encoder_decoder_kwargs_for_generation(input_ids, model_kwargs)\n",
            "  File \"/usr/local/lib/python3.7/dist-packages/transformers/generation_utils.py\", line 417, in _prepare_encoder_decoder_kwargs_for_generation\n",
            "    model_kwargs[\"encoder_outputs\"]: ModelOutput = encoder(input_ids, return_dict=True, **encoder_kwargs)\n",
            "  File \"/usr/local/lib/python3.7/dist-packages/torch/nn/modules/module.py\", line 1051, in _call_impl\n",
            "    return forward_call(*input, **kwargs)\n",
            "  File \"/usr/local/lib/python3.7/dist-packages/transformers/models/bart/modeling_bart.py\", line 764, in forward\n",
            "    embed_pos = self.embed_positions(input_shape)\n",
            "  File \"/usr/local/lib/python3.7/dist-packages/torch/nn/modules/module.py\", line 1051, in _call_impl\n",
            "    return forward_call(*input, **kwargs)\n",
            "  File \"/usr/local/lib/python3.7/dist-packages/transformers/models/bart/modeling_bart.py\", line 123, in forward\n",
            "    return super().forward(positions + self.offset)\n",
            "  File \"/usr/local/lib/python3.7/dist-packages/torch/nn/modules/sparse.py\", line 160, in forward\n",
            "    self.norm_type, self.scale_grad_by_freq, self.sparse)\n",
            "  File \"/usr/local/lib/python3.7/dist-packages/torch/nn/functional.py\", line 2043, in embedding\n",
            "    return torch.embedding(weight, input, padding_idx, scale_grad_by_freq, sparse)\n",
            "IndexError: index out of range in self\n",
            "127.0.0.1 - - [10/Oct/2021 15:04:22] \"\u001b[35m\u001b[1mPOST /text HTTP/1.1\u001b[0m\" 500 -\n"
          ]
        },
        {
          "output_type": "stream",
          "name": "stdout",
          "text": [
            "{'text': \"Hello and welcome. My name is Dr. Helen Prior, and I'm a lecturer in music here at the University of hall. I'm a music psychologist and as my colleague, Dr. Elaine King, and we've put together this presentation to let you know a little bit about what music psychology can tell us about performance preparation. Psychology is the study of the mind. Music psychology investigates the mind in relation to music. It usually gathers empirical evidence through experiments or observations to get answer specific research questions. We're going to focus today on what music psychology can tell us about performance preparation, and we're going to focus on three areas how to make the most of your practice time, whether you should memorize your performance, and how to minimize problems from performance anxiety. We hope that these areas will be directly relevant to your studies in music performance. So how can you make the most of your practice time? As a musician, you will know just how important practice is. When we're talking about practice, we mean repeated action as a means of acquiring skill. Practice can vary a lot. Sometimes we play our instrument for fun just to enjoy the sounds were making. Other times we practice in a highly structured way with explicit goals. We structure our time, carefully monitor weaknesses in our playing, use specific tasks to combat those weaknesses, and concentrate intently while we're doing it. This latter type of practice has been defined as deliberate practice by two researchers and expertise, Cramp and Ericson, both the quantity and the quality of deliberate practice are important, so let's look at those. In turn, there is a clear relationship between hours of deliberate practice and expertise. Have a look at this graph taken from work by music psychologist John Slobodan. The Gray bars show Max show how much practice was done between one grade and the next. The line shows the cumulative number of hours of practice pupils have done. Overall, he compared five different ability groups but found no significant differences between them, suggesting that broadly, to get to a particular standard, you need to have accumulated a particular number of hours of deliberate practice. This link between quantity of practice and acquired skill is reinforced by other research by Cramp and Ericson, who looked at how many hours of practice had been accumulated by violinists of different standards. Looking at the bar chart on the right, you can see that the best violinists had accumulated more hours of practice than the good violinists, and in term they had accumulated more hours of practice than those violinists who intended to be teachers. But they also found that some more details of the practice time. The very best file inist did several short practice sessions with breaks throughout the day, distributed their practice evenly across the week, and preferred practicing in the middle of the day between 10:00 A.m. And 01:00 p.m.. They also found that sleep was important for effective practice. Although quantity of practice is very important other factors can influence the effectiveness or quality of the practice you do when we're thinking about the best ways of doing things. It's a good idea to get empirical evidence from observing novices and experts to help us to find strategies to improve what we do. A study by Linda Gruson did exactly that and found that novice penis tend to spend more time doing uninterrupted playing than experts, but made more errors and repeated more single notes. Experts, however, made more repetitions of sections of the music. Overall, she found that novices had a strategy of playing pieces all the way through, hoping that mistakes would be ironed out, whereas experts would divide deputes into chunks to practice repeating those chunks until they were correct. This notion of chunking has also been seen in later research by authors such as Aaron William and Elizabeth Valentine, who also found that the pianists who eventually gave the best performances in their study practice shorter chunks at the earlier stages of practicing a piece but have progressed a longer chance by the middle stages of learning. Similarly, Roger Chaffin, Gabriella Emory and Mary Crawford's work shows the EMR and professional pianist practice chunks of pieces but also allocated her practice time according to the difficulty of the music having a specific goal in mind as she was playing. To summarize expert neat musicians do practice a lot, but they make the most of their practice time by getting plenty of sleep, practicing for several different periods of time in one day, structuring their practice carefully with clear goals to achieve, dividing their pieces into small chunks and repeating those chunks and making those chunks bigger as they get to know the piece. Let's move on to our second question. Should you Perform From a Memory? In 2014, the Kiara Sprinkle Tet was featured in the Strad magazine because they had started to perform from memory. This is not standard practice for a string tent, but these players have found that playing from memory released them from as they put it, bickering over tiny details in an ever expanding quest for perfection and allow them greater expressive freedom. Let's have a listening you can judge for yourself. Having watched that, you'll have your own ideas about the benefits those musicians may have gained from memorizing the music they were playing. But let's look at what music psychology research contest about it. As early as 1915, Hughes noted the freedom of expression and the greatest psychological connection with the audience that could be gained through memorization. John Abode in 1985 commented that memorization frees the performers eyes from the school and guarantees the availability of information about what is to come next. But notice that the performer must know the music thoroughly. The first systematic study on the value of performing from memory was conducted by Aaron William On in 1999. He recorded five performances of Embark cello suites by the same cellist under different conditions. The first was with the music with the stand visible. After a month, he recorded the same Charles in for further conditions with the stand, but without the music, without the music or the stand, with the stand and the music and with the music, but without standing the camera view. He then asked audiences of musicians unknown musicians to rate the performances in terms of their overall quality, musicality technical proficiency, and communication. William and found that audiences generally prefer the memorized performances. These received higher ratings. The visibility of the performer influence the ratings. So in other words, the music stand was an obstruction. The extra month spent preparing for memorized performances was beneficial. Interestingly, musicians were biased in favor of performances. Without the music stand visible, it's worth bearing in mind that these were videotape performance is not live ones, and the performer is not an eminent soloist. We also don't know whether other pieces of music or instruments might yield different results. Further research is needed that in this study, memorized performances without a music stand did seem to be received more favorably than the ones with a music stand. So looking at that evidence, you might decide to memorize your performance. So how should you go about doing that? A physical research in this area by people like Susan Hamam, Rita A, Yellow, Roger Chaffin, Jane Ginsburg, and Erin WilliamA suggests that we use four types of musical memory, oral memory to do with the mind's ear, so creating a sound image of the music visual memory to the mind's eye so you might visualize an image of a printed page or C finger or hand positions kinesthetic memory to do your finger muscular or tactile memory and conceptual and analytical memory. So this is key ideas about music to do with form, phrasing, or themes. Individuals usually have their own preferences for particular memory types, and Helen found that there is no difference between an individual's preferred memory type and the quality of a given performance. So any of the four memory types can lead to high quality performance. Knowing which kind of memory type you rely on can be helpful, and you might consider trying out the other types to consolidate your memory of the music. Memorizing involves attention and repetition, for example, of chunks during practice time. It is also helpful to develop different types of landmarks or cues, such as technical, expressive, or interpretive cues. To help with your memorization, we've come to a third question now, which is, how can you manage performance anxiety? Performance anxiety can be defined as the experience of persisting, distressful, apprehension about, and or actual impairment of performance skills in a public context, to a degree unwarranted given the individual's musical attitude, training, and level of preparation, and it's very common. Various studies have suggested that between 24% and 70% of professional orchestral musicians experience music performance anxiety severe enough to impair their performance. Paul Lera in 1995 divides the symptoms of performance anxiety into three categories physiological symptoms, cognitive symptoms, and behavioral symptoms. Physiological symptoms include a rapid heartbeat, fast breathing, sweaty palms, shaking to do with muscular tension, dry mouth, which is due to the inhibition of flow, saliva, increased ability, speed and strength, nausea increase mental alertness readiness, and peripheral Vasa constriction. So cold hands or feet. Cognitive symptoms are related to the thoughts you're having. They might include worry about evaluation, failure, or even worry about being worried. Catastrophizing self handicapping are thinking about ways to secure yourself in front of others, such saying that you've had interest in time to prepare and negative thoughts. Behavioral symptoms include phobias, so avoiding doing something. Avoidance is a natural response to act in anxious situations, but it isn't helpful. An incubation effects are staying away from the anxious situation might be caused by a bad review or an unsuccessful concept and a hot house effect. So under acceleration and pressure of learning can generate enormous anxiety, and we might think of a hurry child or somebody who's been pushed too soon. None of those symptoms are pleasant, but it's worth investigating the factors that influence them. Elizabeth Valentine suggests that music performance anxiety levels are dependent on a combination of three factors, the person and attributes, such as their trade, anxiety, the task in relation to its difficulty, and the situation. For example, whether a performance is formal or informal, an exam or a concert, all of these factors will vary, and these variations will result in different levels of anxiety. Researchers have also suggested that some anxiety might actually be beneficial performance because it heightens our awareness and concentration. Now there are various models of optimal arousal which take into account various different aspects of the person task in situation, but they all agree that the area of optimal performance is not the area with least anxiety, but an area with some significant anxiety nonetheless, of the anxiety increases to a point that is too high the performance deteriorates. So how can you reduce anxiety if it's too high? Symptoms can be reduced with medication, but this does have disadvantages ranging from side effects to dependence, so we wouldn't really encourage this approach for students. General healthy lifestyle tips are recommended for reducing all anxiety symptoms, so that includes making sure you get plenty of sleep, regular aerobic exercise, a healthy diet, and not too many stimulants like caffeine. If you're particularly wanting to control physiological symptoms, learn techniques such as the Alexander technique, Eastern regulation techniques, and systematic desensitization can both reduce your underlying anxiety and give you ways to deal with symptoms as they arise. When you're actually experiencing physiological symptoms, you might not sometimes need a short term high impact solution. Breathing techniques and selftalk techniques such as the quieting response can really help with this. If you need to manage cognitive symptoms, there are a number of things to try. First try to anticipate the anxiety expect to feel on stage. Experienced musicians feel nervous before a performance rather than during it, so the damage and peak of anxiety has passed before the performance begins. The other techniques within this list all focus on changing thought patterns, blocking anxious thoughts or visualizing and thinking about positive aspects of performance. All of these can be very helpful in reducing cognitive symptoms of anxiety. Finally, there are several techniques designed to reduce behavioral symptoms. It is really important to keep performing. The more times you do it, the easier it will become. Do try to recognize any avoidance behaviors and address them. And if you have a bad performance experience, try again as soon as you can. It's just like falling off a horse. You need to get back on again, straight away. Hopefully, that has gone some way to answer the three questions we post at the beginning, and perhaps it's inspired you to find out more. If so, you might want to follow up on one or two of the references included in today's presentation. Or if you'd like more information about the staff members he created this presentation, please do look at our web pages. We wish you the very best for all your musical endeavors and I hope to see you here at Hal soon. Thank you.\", 'id': 'vur09o55v-0909-4456-a2c8-ba451e90cffb'}\n",
            "{'123454': [\"A lot of people might feel sad or angry or stressed without knowing what cause those negative emotions. If this continues for a long period of time, this might affect the person's mood drastically. Our team tried to propose a solution that solves this problem by making the users more self aware and self conscience of these feelings.\", '<pad> a lot of people use the internet and social media, and even though the other sometimes be', \"Okay. Hi, I'm Ellie, and I only presenting our project Smartly Serve for Coastal Hacks today. A lot of people these days use the Internet and social media, and even though the other sometimes be a great place, me and my team and notice that after using the Internet, a lot of people might feel sad or angry or stressed without knowing what cause those negative emotions. If this continues for a long period of time, this might affect the person's mood drastically and affect very well being, or even lead to things such as anxiety or depression. Our team tried to propose a solution that solves this problem by making the users more self aware and self conscience of these feelings, and when they are triggered so that they can limit their usage or completely stop their usage of the websites that trigger their negative emotions a lot.\"], 'vuov0k2b9-cd63-4341-b2ca-e89da85b44fd': ['A lot of people use the Internet and social media a lot. Ellie and her team tried to propose a solution that makes users more self aware and self conscience of these feelings, and when they are triggered so that they can limit their usage or completely stop their usage of websites that trigger their negative emotions.', '<pad> a lot of people use the internet and social media, and even though the other sometimes be', \"Okay. Hi, I'm Ellie and I will be presenting our project Smartly Serve for Coastal Hacks today. A lot of people these days use the Internet and social media, and even though the other sometimes be a great place, me and my team and notice that after using the Internet, a lot of people might feel sad or angry or stressed without knowing what cause those negative emotions. If this continues for a long period of time, this might affect the person's mood drastically and affect very well being, or even lead to things such as anxiety or depression. Our team tried to propose a solution that solves this problem by making users more self aware and self conscience of these feelings, and when they are triggered so that they can limit their usage or completely stop their usage of the websites that trigger their negative emotions. A lot.\"], 'vuowxqc9y-ea9b-4c0b-a957-66960639c5a7': [\"A lot of people might feel sad or angry or stressed without knowing what cause those negative emotions. This might affect the person's mood drastically and affect very well being. Our team tried to propose a solution that solves this problem by making users more self aware and self conscience of these feelings, and when they are triggered.\", '<pad> a lot of people use the internet and social media, and even though the other sometimes be', \"Okay. Hi, I'm Ellie, and I only presenting our project Smartly Serve for Coastal Hacks today. A lot of people these days use the Internet and social media, and even though the other sometimes be a great place, me and my team and notice that after using the Internet, a lot of people might feel sad or angry or stressed without knowing what cause those negative emotions. If this continues for a long period of time, this might affect the person's mood drastically and affect very well being, or even lead to things such as anxiety or depression. Our team tried to propose a solution that solves this problem by making users more self aware and self conscience of these feelings, and when they are triggered so that they can limit their usage or completely stop their usage of the websites that trigger their negative emotions. A lot.\"], 'vur1lpc5c-38ae-4afb-8386-1f0d3f57e005': [\"Dr Helen Prior: Music psychology investigates the mind in relation to music. We're going to focus today on what music psychology can tell us about performance preparation. How to make the most of your practice time, whether you should memorize your performance, and how to minimize problems from performance anxiety.\", \"<pad> music psychologist and music psychologist. we're going to focus on three areas how to make\", \"Hello and welcome. My name is Dr. Helen Prior, and I'm a lecturer in music here at the University of hall. I'm a music psychologist and as my colleague, Dr. Elaine King, and we've put together this presentation to let you know a little bit about what music psychology can tell us about performance preparation. Psychology is the study of the mind. Music psychology investigates the mind in relation to music. It usually gathers empirical evidence through experiments or observations to get answer specific research questions. We're going to focus today on what music psychology can tell us about performance preparation, and we're going to focus on three areas how to make the most of your practice time, whether you should memorize your performance, and how to minimize problems from performance anxiety. We hope that these areas will be directly relevant to your studies in music performance. So how can you make the most of your practice time? As a musician, you will know just how important practice is. When we're talking about practice, we mean repeated action as a means of acquiring skill. Practice can vary a lot. Sometimes we play our instrument for fun just to enjoy the sounds were making. Other times we practice in a highly structured way with explicit goals. We structure our time, carefully monitor weaknesses in our playing, use specific tasks to combat those weaknesses, and concentrate intently while we're doing it. This latter type of practice has been defined as deliberate practice by two researchers and expertise Cramp and Ericson. Both the quantity and the quality of deliberate practice are important, so let's look at those. In turn, there is a clear relationship between hours of deliberate practice and expertise. Have a look at this graph taken from work by music psychologist John Slobodan. The Gray bars show Max show how much practice was done between one grade and the next. The line shows the cumulative number of hours of practice people have done. Overall, he compared five different ability groups but found no significant differences between them, suggesting that broadly, to get to a particular standard, you need to have accumulated a particular number of hours of deliberate practice.\"], 'vur1u9d36-5e04-42d7-9eeb-af05d0eee2f4': [\"Dr Helen Prior: Music psychology investigates the mind in relation to music. We're going to focus today on what music psychology can tell us about performance preparation. How to make the most of your practice time, whether you should memorize your performance, and how to minimize problems from performance anxiety.\", '<pad> music psychologist and music psychologist, a colleague, has put together this presentation to let you know', \"Hello and welcome. My name is Dr. Helen Prior, and I'm a lecturer in music here at the University of hall. I'm a music psychologist and as my colleague, Dr. Elaine King, and we've put together this presentation to let you know a little bit about what music psychology can tell us about performance preparation. Psychology is the study of the mind. Music psychology investigates the mind in relation to music. It usually gathers empirical evidence through experiments or observations to get answer specific research questions. We're going to focus today on what music psychology can tell us about performance preparation, and we're going to focus on three areas how to make the most of your practice time, whether you should memorize your performance, and how to minimize problems from performance anxiety. We hope that these areas will be directly relevant to your studies in music performance. So how can you make the most of your practice time? As a musician, you will know just how important practice is. When we're talking about practice, we mean repeated action as a means of acquiring skill. Practice can vary a lot. Sometimes we play our instrument for fun just to enjoy the sounds were making. Other times we practice in a highly structured way with explicit goals. We structure our time, carefully monitor weaknesses in our playing, use specific tasks to combat those weaknesses, and concentrate intently while we're doing it. This latter type of practice has been defined as deliberate practice by two researchers and expertise, Cramp and Ericson. Both the quantity and the quality of deliberate practice are important, so let's look at those. In turn, there is a clear relationship between hours of deliberate practice and expertise. Have a look at this graph taken from work by a music psychologist, John Slobodan. The Gray bars show Max show how much practice was done between one grade and the next. The line shows the cumulative number of hours of practice Peoples have done. Overall, he compared five different ability groups but found no significant differences between them, suggesting that broadly, to get to a particular standard, you need to have accumulated a particular number of hours of deliberate practice.\"], 'vur09o55v-0909-4456-a2c8-ba451e90cffb': [\"Hello and welcome. My name is Dr. Helen Prior, and I'm a lecturer in music here at the University of hall. I'm a music psychologist and as my colleague, Dr. Elaine King, and we've put together this presentation to let you know a little bit about what music psychology can tell us about performance preparation. Psychology is the study of the mind. Music psychology investigates the mind in relation to music. It usually gathers empirical evidence through experiments or observations to get answer specific research questions. We're going to focus today on what music psychology can tell us about performance preparation, and we're going to focus on three areas how to make the most of your practice time, whether you should memorize your performance, and how to minimize problems from performance anxiety. We hope that these areas will be directly relevant to your studies in music performance. So how can you make the most of your practice time? As a musician, you will know just how important practice is. When we're talking about practice, we mean repeated action as a means of acquiring skill. Practice can vary a lot. Sometimes we play our instrument for fun just to enjoy the sounds were making. Other times we practice in a highly structured way with explicit goals. We structure our time, carefully monitor weaknesses in our playing, use specific tasks to combat those weaknesses, and concentrate intently while we're doing it. This latter type of practice has been defined as deliberate practice by two researchers and expertise, Cramp and Ericson, both the quantity and the quality of deliberate practice are important, so let's look at those. In turn, there is a clear relationship between hours of deliberate practice and expertise. Have a look at this graph taken from work by music psychologist John Slobodan. The Gray bars show Max show how much practice was done between one grade and the next. The line shows the cumulative number of hours of practice pupils have done. Overall, he compared five different ability groups but found no significant differences between them, suggesting that broadly, to get to a particular standard, you need to have accumulated a particular number of hours of deliberate practice. This link between quantity of practice and acquired skill is reinforced by other research by Cramp and Ericson, who looked at how many hours of practice had been accumulated by violinists of different standards. Looking at the bar chart on the right, you can see that the best violinists had accumulated more hours of practice than the good violinists, and in term they had accumulated more hours of practice than those violinists who intended to be teachers. But they also found that some more details of the practice time. The very best file inist did several short practice sessions with breaks throughout the day, distributed their practice evenly across the week, and preferred practicing in the middle of the day between 10:00 A.m. And 01:00 p.m.. They also found that sleep was important for effective practice. Although quantity of practice is very important other factors can influence the effectiveness or quality of the practice you do when we're thinking about the best ways of doing things. It's a good idea to get empirical evidence from observing novices and experts to help us to find strategies to improve what we do. A study by Linda Gruson did exactly that and found that novice penis tend to spend more time doing uninterrupted playing than experts, but made more errors and repeated more single notes. Experts, however, made more repetitions of sections of the music. Overall, she found that novices had a strategy of playing pieces all the way through, hoping that mistakes would be ironed out, whereas experts would divide deputes into chunks to practice repeating those chunks until they were correct. This notion of chunking has also been seen in later research by authors such as Aaron William and Elizabeth Valentine, who also found that the pianists who eventually gave the best performances in their study practice shorter chunks at the earlier stages of practicing a piece but have progressed a longer chance by the middle stages of learning. Similarly, Roger Chaffin, Gabriella Emory and Mary Crawford's work shows the EMR and professional pianist practice chunks of pieces but also allocated her practice time according to the difficulty of the music having a specific goal in mind as she was playing. To summarize expert neat musicians do practice a lot, but they make the most of their practice time by getting plenty of sleep, practicing for several different periods of time in one day, structuring their practice carefully with clear goals to achieve, dividing their pieces into small chunks and repeating those chunks and making those chunks bigger as they get to know the piece. Let's move on to our second question. Should you Perform From a Memory? In 2014, the Kiara Sprinkle Tet was featured in the Strad magazine because they had started to perform from memory. This is not standard practice for a string tent, but these players have found that playing from memory released them from as they put it, bickering over tiny details in an ever expanding quest for perfection and allow them greater expressive freedom. Let's have a listening you can judge for yourself. Having watched that, you'll have your own ideas about the benefits those musicians may have gained from memorizing the music they were playing. But let's look at what music psychology research contest about it. As early as 1915, Hughes noted the freedom of expression and the greatest psychological connection with the audience that could be gained through memorization. John Abode in 1985 commented that memorization frees the performers eyes from the school and guarantees the availability of information about what is to come next. But notice that the performer must know the music thoroughly. The first systematic study on the value of performing from memory was conducted by Aaron William On in 1999. He recorded five performances of Embark cello suites by the same cellist under different conditions. The first was with the music with the stand visible. After a month, he recorded the same Charles in for further conditions with the stand, but without the music, without the music or the stand, with the stand and the music and with the music, but without standing the camera view. He then asked audiences of musicians unknown musicians to rate the performances in terms of their overall quality, musicality technical proficiency, and communication. William and found that audiences generally prefer the memorized performances. These received higher ratings. The visibility of the performer influence the ratings. So in other words, the music stand was an obstruction. The extra month spent preparing for memorized performances was beneficial. Interestingly, musicians were biased in favor of performances. Without the music stand visible, it's worth bearing in mind that these were videotape performance is not live ones, and the performer is not an eminent soloist. We also don't know whether other pieces of music or instruments might yield different results. Further research is needed that in this study, memorized performances without a music stand did seem to be received more favorably than the ones with a music stand. So looking at that evidence, you might decide to memorize your performance. So how should you go about doing that? A physical research in this area by people like Susan Hamam, Rita A, Yellow, Roger Chaffin, Jane Ginsburg, and Erin WilliamA suggests that we use four types of musical memory, oral memory to do with the mind's ear, so creating a sound image of the music visual memory to the mind's eye so you might visualize an image of a printed page or C finger or hand positions kinesthetic memory to do your finger muscular or tactile memory and conceptual and analytical memory. So this is key ideas about music to do with form, phrasing, or themes. Individuals usually have their own preferences for particular memory types, and Helen found that there is no difference between an individual's preferred memory type and the quality of a given performance. So any of the four memory types can lead to high quality performance. Knowing which kind of memory type you rely on can be helpful, and you might consider trying out the other types to consolidate your memory of the music. Memorizing involves attention and repetition, for example, of chunks during practice time. It is also helpful to develop different types of landmarks or cues, such as technical, expressive, or interpretive cues. To help with your memorization, we've come to a third question now, which is, how can you manage performance anxiety? Performance anxiety can be defined as the experience of persisting, distressful, apprehension about, and or actual impairment of performance skills in a public context, to a degree unwarranted given the individual's musical attitude, training, and level of preparation, and it's very common. Various studies have suggested that between 24% and 70% of professional orchestral musicians experience music performance anxiety severe enough to impair their performance. Paul Lera in 1995 divides the symptoms of performance anxiety into three categories physiological symptoms, cognitive symptoms, and behavioral symptoms. Physiological symptoms include a rapid heartbeat, fast breathing, sweaty palms, shaking to do with muscular tension, dry mouth, which is due to the inhibition of flow, saliva, increased ability, speed and strength, nausea increase mental alertness readiness, and peripheral Vasa constriction. So cold hands or feet. Cognitive symptoms are related to the thoughts you're having. They might include worry about evaluation, failure, or even worry about being worried. Catastrophizing self handicapping are thinking about ways to secure yourself in front of others, such saying that you've had interest in time to prepare and negative thoughts. Behavioral symptoms include phobias, so avoiding doing something. Avoidance is a natural response to act in anxious situations, but it isn't helpful. An incubation effects are staying away from the anxious situation might be caused by a bad review or an unsuccessful concept and a hot house effect. So under acceleration and pressure of learning can generate enormous anxiety, and we might think of a hurry child or somebody who's been pushed too soon. None of those symptoms are pleasant, but it's worth investigating the factors that influence them. Elizabeth Valentine suggests that music performance anxiety levels are dependent on a combination of three factors, the person and attributes, such as their trade, anxiety, the task in relation to its difficulty, and the situation. For example, whether a performance is formal or informal, an exam or a concert, all of these factors will vary, and these variations will result in different levels of anxiety. Researchers have also suggested that some anxiety might actually be beneficial performance because it heightens our awareness and concentration. Now there are various models of optimal arousal which take into account various different aspects of the person task in situation, but they all agree that the area of optimal performance is not the area with least anxiety, but an area with some significant anxiety nonetheless, of the anxiety increases to a point that is too high the performance deteriorates. So how can you reduce anxiety if it's too high? Symptoms can be reduced with medication, but this does have disadvantages ranging from side effects to dependence, so we wouldn't really encourage this approach for students. General healthy lifestyle tips are recommended for reducing all anxiety symptoms, so that includes making sure you get plenty of sleep, regular aerobic exercise, a healthy diet, and not too many stimulants like caffeine. If you're particularly wanting to control physiological symptoms, learn techniques such as the Alexander technique, Eastern regulation techniques, and systematic desensitization can both reduce your underlying anxiety and give you ways to deal with symptoms as they arise. When you're actually experiencing physiological symptoms, you might not sometimes need a short term high impact solution. Breathing techniques and selftalk techniques such as the quieting response can really help with this. If you need to manage cognitive symptoms, there are a number of things to try. First try to anticipate the anxiety expect to feel on stage. Experienced musicians feel nervous before a performance rather than during it, so the damage and peak of anxiety has passed before the performance begins. The other techniques within this list all focus on changing thought patterns, blocking anxious thoughts or visualizing and thinking about positive aspects of performance. All of these can be very helpful in reducing cognitive symptoms of anxiety. Finally, there are several techniques designed to reduce behavioral symptoms. It is really important to keep performing. The more times you do it, the easier it will become. Do try to recognize any avoidance behaviors and address them. And if you have a bad performance experience, try again as soon as you can. It's just like falling off a horse. You need to get back on again, straight away. Hopefully, that has gone some way to answer the three questions we post at the beginning, and perhaps it's inspired you to find out more. If so, you might want to follow up on one or two of the references included in today's presentation. Or if you'd like more information about the staff members he created this presentation, please do look at our web pages. We wish you the very best for all your musical endeavors and I hope to see you here at Hal soon. Thank you.\"]}\n"
          ]
        }
      ]
    },
    {
      "cell_type": "code",
      "metadata": {
        "id": "uxUAORmIOZc_"
      },
      "source": [
        ""
      ],
      "execution_count": null,
      "outputs": []
    }
  ]
}