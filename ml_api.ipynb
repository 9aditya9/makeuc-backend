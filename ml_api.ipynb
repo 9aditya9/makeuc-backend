{
  "nbformat": 4,
  "nbformat_minor": 0,
  "metadata": {
    "colab": {
      "name": "Untitled5.ipynb",
      "provenance": [],
      "authorship_tag": "ABX9TyODOMYiGf9RKAXf1Qcq+B2N",
      "include_colab_link": true
    },
    "kernelspec": {
      "name": "python3",
      "display_name": "Python 3"
    },
    "language_info": {
      "name": "python"
    },
    "accelerator": "GPU"
  },
  "cells": [
    {
      "cell_type": "markdown",
      "metadata": {
        "id": "view-in-github",
        "colab_type": "text"
      },
      "source": [
        "<a href=\"https://colab.research.google.com/github/9aditya9/makeuc-backend/blob/master/ml_api.ipynb\" target=\"_parent\"><img src=\"https://colab.research.google.com/assets/colab-badge.svg\" alt=\"Open In Colab\"/></a>"
      ]
    },
    {
      "cell_type": "code",
      "metadata": {
        "colab": {
          "base_uri": "https://localhost:8080/"
        },
        "id": "KJaQODXG47Zi",
        "outputId": "f3ea8421-80ce-4382-e4ef-1d0531b78742"
      },
      "source": [
        "!pip install sentencepiece"
      ],
      "execution_count": 2,
      "outputs": [
        {
          "output_type": "stream",
          "name": "stdout",
          "text": [
            "Requirement already satisfied: sentencepiece in /usr/local/lib/python3.7/dist-packages (0.1.96)\n"
          ]
        }
      ]
    },
    {
      "cell_type": "code",
      "metadata": {
        "colab": {
          "base_uri": "https://localhost:8080/",
          "height": 367
        },
        "id": "1eESVuPZ4NEr",
        "outputId": "07d621b1-4cfe-4557-e33e-754c310de072"
      },
      "source": [
        "\n",
        "from transformers import T5Tokenizer, T5Config, T5ForConditionalGeneration\n",
        "from transformers import BartForConditionalGeneration, BartTokenizer, BartConfig\n",
        "\n",
        "import gensim\n",
        "from gensim.summarization import summarize\n",
        "\n",
        "\n",
        "my_model = T5ForConditionalGeneration.from_pretrained('t5-small')\n",
        "tokenizer = T5Tokenizer.from_pretrained('t5-small')\n",
        "\n",
        "\n",
        "bart_tokenizer = BartTokenizer.from_pretrained('facebook/bart-large-cnn')\n",
        "bart_model = BartForConditionalGeneration.from_pretrained(\n",
        "    'facebook/bart-large-cnn')\n",
        "\n"
      ],
      "execution_count": 4,
      "outputs": [
        {
          "output_type": "error",
          "ename": "ModuleNotFoundError",
          "evalue": "ignored",
          "traceback": [
            "\u001b[0;31m---------------------------------------------------------------------------\u001b[0m",
            "\u001b[0;31mModuleNotFoundError\u001b[0m                       Traceback (most recent call last)",
            "\u001b[0;32m<ipython-input-4-53e7e2ab1db7>\u001b[0m in \u001b[0;36m<module>\u001b[0;34m()\u001b[0m\n\u001b[1;32m      1\u001b[0m \u001b[0;34m\u001b[0m\u001b[0m\n\u001b[0;32m----> 2\u001b[0;31m \u001b[0;32mfrom\u001b[0m \u001b[0mtransformers\u001b[0m \u001b[0;32mimport\u001b[0m \u001b[0mT5Tokenizer\u001b[0m\u001b[0;34m,\u001b[0m \u001b[0mT5Config\u001b[0m\u001b[0;34m,\u001b[0m \u001b[0mT5ForConditionalGeneration\u001b[0m\u001b[0;34m\u001b[0m\u001b[0;34m\u001b[0m\u001b[0m\n\u001b[0m\u001b[1;32m      3\u001b[0m \u001b[0;32mfrom\u001b[0m \u001b[0mtransformers\u001b[0m \u001b[0;32mimport\u001b[0m \u001b[0mBartForConditionalGeneration\u001b[0m\u001b[0;34m,\u001b[0m \u001b[0mBartTokenizer\u001b[0m\u001b[0;34m,\u001b[0m \u001b[0mBartConfig\u001b[0m\u001b[0;34m\u001b[0m\u001b[0;34m\u001b[0m\u001b[0m\n\u001b[1;32m      4\u001b[0m \u001b[0;34m\u001b[0m\u001b[0m\n\u001b[1;32m      5\u001b[0m \u001b[0;32mimport\u001b[0m \u001b[0mgensim\u001b[0m\u001b[0;34m\u001b[0m\u001b[0;34m\u001b[0m\u001b[0m\n",
            "\u001b[0;31mModuleNotFoundError\u001b[0m: No module named 'transformers'",
            "",
            "\u001b[0;31m---------------------------------------------------------------------------\u001b[0;32m\nNOTE: If your import is failing due to a missing package, you can\nmanually install dependencies using either !pip or !apt.\n\nTo view examples of installing some common dependencies, click the\n\"Open Examples\" button below.\n\u001b[0;31m---------------------------------------------------------------------------\u001b[0m\n"
          ],
          "errorDetails": {
            "actions": [
              {
                "action": "open_url",
                "actionText": "Open Examples",
                "url": "/notebooks/snippets/importing_libraries.ipynb"
              }
            ]
          }
        }
      ]
    },
    {
      "cell_type": "code",
      "metadata": {
        "id": "FFEk2SVE5kwn"
      },
      "source": [
        "def summarize_textrank(text):\n",
        "    print(\"input\", text)\n",
        "\n",
        "    # TextRank with Gensim\n",
        "    summary = summarize(text, ratio=0.2)\n",
        "    print(\"Summary:\", summary)\n",
        "    return summary\n",
        "\n",
        "\n",
        "def summarize_t5(original_text):\n",
        "    text = \"summarize:\" + original_text\n",
        "\n",
        "    # encoding the input text\n",
        "    input_ids = tokenizer.encode(text, return_tensors='pt', max_length=512)\n",
        "\n",
        "    # Generating summary ids\n",
        "    summary_ids = my_model.generate(input_ids)\n",
        "    summary_ids\n",
        "    \n",
        "    # Decoding the tensor and printing the summary.\n",
        "    t5_summary = tokenizer.decode(summary_ids[0])\n",
        "    print(t5_summary)\n",
        "    return t5_summary\n",
        "\n",
        "\n",
        "def summarize_bart(original_text):\n",
        "    # Encoding the inputs and passing them to model.generate()\n",
        "    inputs = bart_tokenizer.batch_encode_plus(\n",
        "        [original_text], return_tensors='pt')\n",
        "    summary_ids = bart_model.generate(inputs['input_ids'], early_stopping=True)\n",
        "\n",
        "    # Decoding and printing the summary\n",
        "    bart_summary = bart_tokenizer.decode(\n",
        "        summary_ids[0], skip_special_tokens=True)\n",
        "    print(\"Summary:\", bart_summary)\n",
        "    return bart_summary"
      ],
      "execution_count": 13,
      "outputs": []
    },
    {
      "cell_type": "code",
      "metadata": {
        "colab": {
          "base_uri": "https://localhost:8080/"
        },
        "id": "w5PO6iA35qT3",
        "outputId": "201a7337-b3b4-4d1c-d853-cceb7413dae3"
      },
      "source": [
        "!pip install flask-ngrok flask-cors"
      ],
      "execution_count": 2,
      "outputs": [
        {
          "output_type": "stream",
          "name": "stdout",
          "text": [
            "Collecting flask-ngrok\n",
            "  Downloading flask_ngrok-0.0.25-py3-none-any.whl (3.1 kB)\n",
            "Collecting flask-cors\n",
            "  Downloading Flask_Cors-3.0.10-py2.py3-none-any.whl (14 kB)\n",
            "Requirement already satisfied: Flask>=0.8 in /usr/local/lib/python3.7/dist-packages (from flask-ngrok) (1.1.4)\n",
            "Requirement already satisfied: requests in /usr/local/lib/python3.7/dist-packages (from flask-ngrok) (2.23.0)\n",
            "Requirement already satisfied: itsdangerous<2.0,>=0.24 in /usr/local/lib/python3.7/dist-packages (from Flask>=0.8->flask-ngrok) (1.1.0)\n",
            "Requirement already satisfied: Werkzeug<2.0,>=0.15 in /usr/local/lib/python3.7/dist-packages (from Flask>=0.8->flask-ngrok) (1.0.1)\n",
            "Requirement already satisfied: Jinja2<3.0,>=2.10.1 in /usr/local/lib/python3.7/dist-packages (from Flask>=0.8->flask-ngrok) (2.11.3)\n",
            "Requirement already satisfied: click<8.0,>=5.1 in /usr/local/lib/python3.7/dist-packages (from Flask>=0.8->flask-ngrok) (7.1.2)\n",
            "Requirement already satisfied: MarkupSafe>=0.23 in /usr/local/lib/python3.7/dist-packages (from Jinja2<3.0,>=2.10.1->Flask>=0.8->flask-ngrok) (2.0.1)\n",
            "Requirement already satisfied: Six in /usr/local/lib/python3.7/dist-packages (from flask-cors) (1.15.0)\n",
            "Requirement already satisfied: chardet<4,>=3.0.2 in /usr/local/lib/python3.7/dist-packages (from requests->flask-ngrok) (3.0.4)\n",
            "Requirement already satisfied: urllib3!=1.25.0,!=1.25.1,<1.26,>=1.21.1 in /usr/local/lib/python3.7/dist-packages (from requests->flask-ngrok) (1.24.3)\n",
            "Requirement already satisfied: certifi>=2017.4.17 in /usr/local/lib/python3.7/dist-packages (from requests->flask-ngrok) (2021.5.30)\n",
            "Requirement already satisfied: idna<3,>=2.5 in /usr/local/lib/python3.7/dist-packages (from requests->flask-ngrok) (2.10)\n",
            "Installing collected packages: flask-ngrok, flask-cors\n",
            "Successfully installed flask-cors-3.0.10 flask-ngrok-0.0.25\n"
          ]
        }
      ]
    },
    {
      "cell_type": "code",
      "metadata": {
        "colab": {
          "base_uri": "https://localhost:8080/"
        },
        "id": "asWa89ixA3Ad",
        "outputId": "9ed700d2-3e72-40b4-d07a-615a31b1429b"
      },
      "source": [
        "from flask import Flask, request, jsonify\n",
        "from flask_ngrok import run_with_ngrok\n",
        "from flask_cors import CORS\n",
        "from werkzeug.utils import secure_filename\n",
        "import json\n",
        "\n",
        "app = Flask(__name__)\n",
        "run_with_ngrok(app)\n",
        "CORS(app)\n",
        "\n",
        "dict_f = {}\n",
        "\n",
        "@app.route(\"/text\", methods=[\"POST\"])\n",
        "def get_text():\n",
        "  # data = request.args.get('data')\n",
        "  data = request.get_json()\n",
        "  # text = request.form.get['text']\n",
        "  # print(text)\n",
        "  print(data)\n",
        "  dict_f[data['id']] = data['text']\n",
        "  print(dict_f)\n",
        "  dict_f[data['id']] = summarize_bart(data['text'])\n",
        "  print(dict_f)\n",
        "  resp = jsonify(success=True)\n",
        "  return resp\n",
        "\n",
        "@app.route(\"/summary\")\n",
        "def get_summary():\n",
        "  q = request.args.get('id')\n",
        "  print(dict_f[q])\n",
        "  return jsonify({\"summary\": dict_f[q]})\n",
        "\n",
        "@app.route(\"/\")\n",
        "def index():\n",
        "  data = \"Okay. Hi, I'm Ellie, and I only presenting our project Smartly Serve for Coastal Hacks today. A lot of people these days use the Internet and social media, and even though the other sometimes be a great place, me and my team and notice that after using the Internet, a lot of people might feel sad or angry or stressed without knowing what cause those negative emotions. If this continues for a long period of time, this might affect the person's mood drastically and affect very well being, or even lead to things such as anxiety or depression. Our team tried to propose a solution that solves this problem by making the users more self aware and self conscience of these feelings, and when they are triggered so that they can limit their usage or completely stop their usage of the websites that trigger their negative emotions a lot.\"\n",
        "  # summary = summarize(data, ratio=0.1)\n",
        "  summary = summarize_bart(data)\n",
        "  print(summary)\n",
        "  return f\"<h3>{data}</h3><br><h4>{summary}</h4>\"\n",
        "app.run()"
      ],
      "execution_count": 3,
      "outputs": [
        {
          "output_type": "stream",
          "name": "stdout",
          "text": [
            " * Serving Flask app \"__main__\" (lazy loading)\n",
            " * Environment: production\n",
            "\u001b[31m   WARNING: This is a development server. Do not use it in a production deployment.\u001b[0m\n",
            "\u001b[2m   Use a production WSGI server instead.\u001b[0m\n",
            " * Debug mode: off\n"
          ]
        },
        {
          "output_type": "stream",
          "name": "stderr",
          "text": [
            " * Running on http://127.0.0.1:5000/ (Press CTRL+C to quit)\n"
          ]
        },
        {
          "output_type": "stream",
          "name": "stdout",
          "text": [
            " * Running on http://64c1-35-233-155-68.ngrok.io\n",
            " * Traffic stats available on http://127.0.0.1:4040\n"
          ]
        },
        {
          "output_type": "stream",
          "name": "stderr",
          "text": [
            "[2021-10-10 12:21:09,713] ERROR in app: Exception on / [GET]\n",
            "Traceback (most recent call last):\n",
            "  File \"/usr/local/lib/python3.7/dist-packages/flask/app.py\", line 2447, in wsgi_app\n",
            "    response = self.full_dispatch_request()\n",
            "  File \"/usr/local/lib/python3.7/dist-packages/flask/app.py\", line 1952, in full_dispatch_request\n",
            "    rv = self.handle_user_exception(e)\n",
            "  File \"/usr/local/lib/python3.7/dist-packages/flask_cors/extension.py\", line 165, in wrapped_function\n",
            "    return cors_after_request(app.make_response(f(*args, **kwargs)))\n",
            "  File \"/usr/local/lib/python3.7/dist-packages/flask/app.py\", line 1821, in handle_user_exception\n",
            "    reraise(exc_type, exc_value, tb)\n",
            "  File \"/usr/local/lib/python3.7/dist-packages/flask/_compat.py\", line 39, in reraise\n",
            "    raise value\n",
            "  File \"/usr/local/lib/python3.7/dist-packages/flask/app.py\", line 1950, in full_dispatch_request\n",
            "    rv = self.dispatch_request()\n",
            "  File \"/usr/local/lib/python3.7/dist-packages/flask/app.py\", line 1936, in dispatch_request\n",
            "    return self.view_functions[rule.endpoint](**req.view_args)\n",
            "  File \"<ipython-input-3-522c91edb73e>\", line 37, in index\n",
            "    summary = summarize_bart(data)\n",
            "NameError: name 'summarize_bart' is not defined\n",
            "127.0.0.1 - - [10/Oct/2021 12:21:09] \"\u001b[35m\u001b[1mGET / HTTP/1.1\u001b[0m\" 500 -\n",
            "127.0.0.1 - - [10/Oct/2021 12:21:10] \"\u001b[33mGET /favicon.ico HTTP/1.1\u001b[0m\" 404 -\n"
          ]
        }
      ]
    }
  ]
}